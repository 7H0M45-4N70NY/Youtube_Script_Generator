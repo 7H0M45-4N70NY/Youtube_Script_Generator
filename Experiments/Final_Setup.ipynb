{
  "nbformat": 4,
  "nbformat_minor": 0,
  "metadata": {
    "colab": {
      "provenance": []
    },
    "kernelspec": {
      "name": "python3",
      "display_name": "Python 3"
    },
    "language_info": {
      "name": "python"
    }
  },
  "cells": [
    {
      "cell_type": "markdown",
      "source": [
        "## Version 2 Notebook\n",
        "### Completed Steps\n",
        "  * Used youtube-transcript-api for getting transcripts of youtube videos\n",
        "  * Used LamaIndex as a wrapper over the LLM for aditionally functionalities\n",
        "  * By studying transcript of a single video generated a new script\n",
        "\n",
        "### Further Steps\n",
        "  * Get transcripts from 5 videos and input it to llm for response\n",
        "  * Create a Pipline for these steps\n",
        "  * Create Streamlit app and add functionalities\n",
        "\n",
        "### Outcome\n",
        "Streamlit Youtube video script Generator which takes 5 youtube video as reference"
      ],
      "metadata": {
        "id": "3xYoYFGHcQlE"
      }
    },
    {
      "cell_type": "code",
      "source": [
        "!pip install youtube-transcript-api"
      ],
      "metadata": {
        "colab": {
          "base_uri": "https://localhost:8080/"
        },
        "id": "IHnM0CNmZidL",
        "outputId": "129f73af-3806-4822-f70e-ce8b9e894a53"
      },
      "execution_count": 1,
      "outputs": [
        {
          "output_type": "stream",
          "name": "stdout",
          "text": [
            "Collecting youtube-transcript-api\n",
            "  Downloading youtube_transcript_api-0.6.2-py3-none-any.whl (24 kB)\n",
            "Requirement already satisfied: requests in /usr/local/lib/python3.10/dist-packages (from youtube-transcript-api) (2.31.0)\n",
            "Requirement already satisfied: charset-normalizer<4,>=2 in /usr/local/lib/python3.10/dist-packages (from requests->youtube-transcript-api) (3.3.2)\n",
            "Requirement already satisfied: idna<4,>=2.5 in /usr/local/lib/python3.10/dist-packages (from requests->youtube-transcript-api) (3.7)\n",
            "Requirement already satisfied: urllib3<3,>=1.21.1 in /usr/local/lib/python3.10/dist-packages (from requests->youtube-transcript-api) (2.0.7)\n",
            "Requirement already satisfied: certifi>=2017.4.17 in /usr/local/lib/python3.10/dist-packages (from requests->youtube-transcript-api) (2024.2.2)\n",
            "Installing collected packages: youtube-transcript-api\n",
            "Successfully installed youtube-transcript-api-0.6.2\n"
          ]
        }
      ]
    },
    {
      "cell_type": "code",
      "source": [
        "%pip install llama-index-llms-gemini"
      ],
      "metadata": {
        "colab": {
          "base_uri": "https://localhost:8080/",
          "height": 1000
        },
        "id": "xVuinlxmgZS1",
        "outputId": "9b0c1b4b-8974-4dbe-a3a7-807f60762c52"
      },
      "execution_count": 2,
      "outputs": [
        {
          "output_type": "stream",
          "name": "stdout",
          "text": [
            "Collecting llama-index-llms-gemini\n",
            "  Downloading llama_index_llms_gemini-0.1.10-py3-none-any.whl (4.9 kB)\n",
            "Requirement already satisfied: google-generativeai<0.6.0,>=0.5.2 in /usr/local/lib/python3.10/dist-packages (from llama-index-llms-gemini) (0.5.4)\n",
            "Collecting llama-index-core<0.11.0,>=0.10.11.post1 (from llama-index-llms-gemini)\n",
            "  Downloading llama_index_core-0.10.41-py3-none-any.whl (15.4 MB)\n",
            "\u001b[2K     \u001b[90m━━━━━━━━━━━━━━━━━━━━━━━━━━━━━━━━━━━━━━━━\u001b[0m \u001b[32m15.4/15.4 MB\u001b[0m \u001b[31m73.2 MB/s\u001b[0m eta \u001b[36m0:00:00\u001b[0m\n",
            "\u001b[?25hCollecting pillow<11.0.0,>=10.2.0 (from llama-index-llms-gemini)\n",
            "  Downloading pillow-10.3.0-cp310-cp310-manylinux_2_28_x86_64.whl (4.5 MB)\n",
            "\u001b[2K     \u001b[90m━━━━━━━━━━━━━━━━━━━━━━━━━━━━━━━━━━━━━━━━\u001b[0m \u001b[32m4.5/4.5 MB\u001b[0m \u001b[31m83.5 MB/s\u001b[0m eta \u001b[36m0:00:00\u001b[0m\n",
            "\u001b[?25hRequirement already satisfied: google-ai-generativelanguage==0.6.4 in /usr/local/lib/python3.10/dist-packages (from google-generativeai<0.6.0,>=0.5.2->llama-index-llms-gemini) (0.6.4)\n",
            "Requirement already satisfied: google-api-core in /usr/local/lib/python3.10/dist-packages (from google-generativeai<0.6.0,>=0.5.2->llama-index-llms-gemini) (2.11.1)\n",
            "Requirement already satisfied: google-api-python-client in /usr/local/lib/python3.10/dist-packages (from google-generativeai<0.6.0,>=0.5.2->llama-index-llms-gemini) (2.84.0)\n",
            "Requirement already satisfied: google-auth>=2.15.0 in /usr/local/lib/python3.10/dist-packages (from google-generativeai<0.6.0,>=0.5.2->llama-index-llms-gemini) (2.27.0)\n",
            "Requirement already satisfied: protobuf in /usr/local/lib/python3.10/dist-packages (from google-generativeai<0.6.0,>=0.5.2->llama-index-llms-gemini) (3.20.3)\n",
            "Requirement already satisfied: pydantic in /usr/local/lib/python3.10/dist-packages (from google-generativeai<0.6.0,>=0.5.2->llama-index-llms-gemini) (2.7.1)\n",
            "Requirement already satisfied: tqdm in /usr/local/lib/python3.10/dist-packages (from google-generativeai<0.6.0,>=0.5.2->llama-index-llms-gemini) (4.66.4)\n",
            "Requirement already satisfied: typing-extensions in /usr/local/lib/python3.10/dist-packages (from google-generativeai<0.6.0,>=0.5.2->llama-index-llms-gemini) (4.11.0)\n",
            "Requirement already satisfied: proto-plus<2.0.0dev,>=1.22.3 in /usr/local/lib/python3.10/dist-packages (from google-ai-generativelanguage==0.6.4->google-generativeai<0.6.0,>=0.5.2->llama-index-llms-gemini) (1.23.0)\n",
            "Requirement already satisfied: PyYAML>=6.0.1 in /usr/local/lib/python3.10/dist-packages (from llama-index-core<0.11.0,>=0.10.11.post1->llama-index-llms-gemini) (6.0.1)\n",
            "Requirement already satisfied: SQLAlchemy[asyncio]>=1.4.49 in /usr/local/lib/python3.10/dist-packages (from llama-index-core<0.11.0,>=0.10.11.post1->llama-index-llms-gemini) (2.0.30)\n",
            "Requirement already satisfied: aiohttp<4.0.0,>=3.8.6 in /usr/local/lib/python3.10/dist-packages (from llama-index-core<0.11.0,>=0.10.11.post1->llama-index-llms-gemini) (3.9.5)\n",
            "Collecting dataclasses-json (from llama-index-core<0.11.0,>=0.10.11.post1->llama-index-llms-gemini)\n",
            "  Downloading dataclasses_json-0.6.6-py3-none-any.whl (28 kB)\n",
            "Collecting deprecated>=1.2.9.3 (from llama-index-core<0.11.0,>=0.10.11.post1->llama-index-llms-gemini)\n",
            "  Downloading Deprecated-1.2.14-py2.py3-none-any.whl (9.6 kB)\n",
            "Collecting dirtyjson<2.0.0,>=1.0.8 (from llama-index-core<0.11.0,>=0.10.11.post1->llama-index-llms-gemini)\n",
            "  Downloading dirtyjson-1.0.8-py3-none-any.whl (25 kB)\n",
            "Requirement already satisfied: fsspec>=2023.5.0 in /usr/local/lib/python3.10/dist-packages (from llama-index-core<0.11.0,>=0.10.11.post1->llama-index-llms-gemini) (2023.6.0)\n",
            "Collecting httpx (from llama-index-core<0.11.0,>=0.10.11.post1->llama-index-llms-gemini)\n",
            "  Downloading httpx-0.27.0-py3-none-any.whl (75 kB)\n",
            "\u001b[2K     \u001b[90m━━━━━━━━━━━━━━━━━━━━━━━━━━━━━━━━━━━━━━━━\u001b[0m \u001b[32m75.6/75.6 kB\u001b[0m \u001b[31m9.2 MB/s\u001b[0m eta \u001b[36m0:00:00\u001b[0m\n",
            "\u001b[?25hRequirement already satisfied: click in /usr/local/lib/python3.10/dist-packages (from nltk<4.0.0,>=3.8.1->llama-index-core<0.11.0,>=0.10.11.post1->llama-index-llms-gemini) (8.1.7)\n",
            "Requirement already satisfied: joblib in /usr/local/lib/python3.10/dist-packages (from nltk<4.0.0,>=3.8.1->llama-index-core<0.11.0,>=0.10.11.post1->llama-index-llms-gemini) (1.4.2)\n",
            "Requirement already satisfied: regex>=2021.8.3 in /usr/local/lib/python3.10/dist-packages (from nltk<4.0.0,>=3.8.1->llama-index-core<0.11.0,>=0.10.11.post1->llama-index-llms-gemini) (2024.5.15)\n",
            "Requirement already satisfied: distro<2,>=1.7.0 in /usr/lib/python3/dist-packages (from openai>=1.1.0->llama-index-core<0.11.0,>=0.10.11.post1->llama-index-llms-gemini) (1.7.0)\n",
            "Requirement already satisfied: annotated-types>=0.4.0 in /usr/local/lib/python3.10/dist-packages (from pydantic->google-generativeai<0.6.0,>=0.5.2->llama-index-llms-gemini) (0.7.0)\n",
            "Requirement already satisfied: pydantic-core==2.18.2 in /usr/local/lib/python3.10/dist-packages (from pydantic->google-generativeai<0.6.0,>=0.5.2->llama-index-llms-gemini) (2.18.2)\n",
            "Requirement already satisfied: charset-normalizer<4,>=2 in /usr/local/lib/python3.10/dist-packages (from requests>=2.31.0->llama-index-core<0.11.0,>=0.10.11.post1->llama-index-llms-gemini) (3.3.2)\n",
            "Requirement already satisfied: urllib3<3,>=1.21.1 in /usr/local/lib/python3.10/dist-packages (from requests>=2.31.0->llama-index-core<0.11.0,>=0.10.11.post1->llama-index-llms-gemini) (2.0.7)\n",
            "Requirement already satisfied: greenlet!=0.4.17 in /usr/local/lib/python3.10/dist-packages (from SQLAlchemy[asyncio]>=1.4.49->llama-index-core<0.11.0,>=0.10.11.post1->llama-index-llms-gemini) (3.0.3)\n",
            "Collecting mypy-extensions>=0.3.0 (from typing-inspect>=0.8.0->llama-index-core<0.11.0,>=0.10.11.post1->llama-index-llms-gemini)\n",
            "  Downloading mypy_extensions-1.0.0-py3-none-any.whl (4.7 kB)\n",
            "Collecting marshmallow<4.0.0,>=3.18.0 (from dataclasses-json->llama-index-core<0.11.0,>=0.10.11.post1->llama-index-llms-gemini)\n",
            "  Downloading marshmallow-3.21.2-py3-none-any.whl (49 kB)\n",
            "\u001b[2K     \u001b[90m━━━━━━━━━━━━━━━━━━━━━━━━━━━━━━━━━━━━━━━━\u001b[0m \u001b[32m49.3/49.3 kB\u001b[0m \u001b[31m5.1 MB/s\u001b[0m eta \u001b[36m0:00:00\u001b[0m\n",
            "\u001b[?25hRequirement already satisfied: googleapis-common-protos<2.0.dev0,>=1.56.2 in /usr/local/lib/python3.10/dist-packages (from google-api-core->google-generativeai<0.6.0,>=0.5.2->llama-index-llms-gemini) (1.63.0)\n",
            "Requirement already satisfied: httplib2<1dev,>=0.15.0 in /usr/local/lib/python3.10/dist-packages (from google-api-python-client->google-generativeai<0.6.0,>=0.5.2->llama-index-llms-gemini) (0.22.0)\n",
            "Requirement already satisfied: google-auth-httplib2>=0.1.0 in /usr/local/lib/python3.10/dist-packages (from google-api-python-client->google-generativeai<0.6.0,>=0.5.2->llama-index-llms-gemini) (0.1.1)\n",
            "Requirement already satisfied: uritemplate<5,>=3.0.1 in /usr/local/lib/python3.10/dist-packages (from google-api-python-client->google-generativeai<0.6.0,>=0.5.2->llama-index-llms-gemini) (4.1.1)\n",
            "Requirement already satisfied: python-dateutil>=2.8.2 in /usr/local/lib/python3.10/dist-packages (from pandas->llama-index-core<0.11.0,>=0.10.11.post1->llama-index-llms-gemini) (2.8.2)\n",
            "Requirement already satisfied: pytz>=2020.1 in /usr/local/lib/python3.10/dist-packages (from pandas->llama-index-core<0.11.0,>=0.10.11.post1->llama-index-llms-gemini) (2023.4)\n",
            "Requirement already satisfied: tzdata>=2022.1 in /usr/local/lib/python3.10/dist-packages (from pandas->llama-index-core<0.11.0,>=0.10.11.post1->llama-index-llms-gemini) (2024.1)\n",
            "Requirement already satisfied: exceptiongroup in /usr/local/lib/python3.10/dist-packages (from anyio->httpx->llama-index-core<0.11.0,>=0.10.11.post1->llama-index-llms-gemini) (1.2.1)\n",
            "Requirement already satisfied: grpcio<2.0dev,>=1.33.2 in /usr/local/lib/python3.10/dist-packages (from google-api-core->google-generativeai<0.6.0,>=0.5.2->llama-index-llms-gemini) (1.64.0)\n",
            "Requirement already satisfied: grpcio-status<2.0.dev0,>=1.33.2 in /usr/local/lib/python3.10/dist-packages (from google-api-core->google-generativeai<0.6.0,>=0.5.2->llama-index-llms-gemini) (1.48.2)\n",
            "Requirement already satisfied: pyparsing!=3.0.0,!=3.0.1,!=3.0.2,!=3.0.3,<4,>=2.4.2 in /usr/local/lib/python3.10/dist-packages (from httplib2<1dev,>=0.15.0->google-api-python-client->google-generativeai<0.6.0,>=0.5.2->llama-index-llms-gemini) (3.1.2)\n",
            "Requirement already satisfied: packaging>=17.0 in /usr/local/lib/python3.10/dist-packages (from marshmallow<4.0.0,>=3.18.0->dataclasses-json->llama-index-core<0.11.0,>=0.10.11.post1->llama-index-llms-gemini) (24.0)\n",
            "Requirement already satisfied: pyasn1<0.7.0,>=0.4.6 in /usr/local/lib/python3.10/dist-packages (from pyasn1-modules>=0.2.1->google-auth>=2.15.0->google-generativeai<0.6.0,>=0.5.2->llama-index-llms-gemini) (0.6.0)\n",
            "Requirement already satisfied: six>=1.5 in /usr/local/lib/python3.10/dist-packages (from python-dateutil>=2.8.2->pandas->llama-index-core<0.11.0,>=0.10.11.post1->llama-index-llms-gemini) (1.16.0)\n",
            "Installing collected packages: dirtyjson, pillow, mypy-extensions, marshmallow, h11, deprecated, typing-inspect, tiktoken, httpcore, httpx, dataclasses-json, openai, llamaindex-py-client, llama-index-core, llama-index-llms-gemini\n",
            "  Attempting uninstall: pillow\n",
            "    Found existing installation: Pillow 9.4.0\n",
            "    Uninstalling Pillow-9.4.0:\n",
            "      Successfully uninstalled Pillow-9.4.0\n",
            "\u001b[31mERROR: pip's dependency resolver does not currently take into account all the packages that are installed. This behaviour is the source of the following dependency conflicts.\n",
            "imageio 2.31.6 requires pillow<10.1.0,>=8.3.2, but you have pillow 10.3.0 which is incompatible.\u001b[0m\u001b[31m\n",
            "\u001b[0mSuccessfully installed dataclasses-json-0.6.6 deprecated-1.2.14 dirtyjson-1.0.8 h11-0.14.0 httpcore-1.0.5 httpx-0.27.0 llama-index-core-0.10.41 llama-index-llms-gemini-0.1.10 llamaindex-py-client-0.1.19 marshmallow-3.21.2 mypy-extensions-1.0.0 openai-1.30.5 pillow-10.3.0 tiktoken-0.7.0 typing-inspect-0.9.0\n"
          ]
        },
        {
          "output_type": "display_data",
          "data": {
            "application/vnd.colab-display-data+json": {
              "pip_warning": {
                "packages": [
                  "PIL"
                ]
              },
              "id": "15a298ddc1124145aba5f23583510b63"
            }
          },
          "metadata": {}
        }
      ]
    },
    {
      "cell_type": "code",
      "source": [
        "!pip install -q llama-index google-generativeai"
      ],
      "metadata": {
        "id": "qnx54-nfgdho",
        "colab": {
          "base_uri": "https://localhost:8080/"
        },
        "outputId": "2149fb32-79b9-4414-f404-93bb16ecb68a"
      },
      "execution_count": 3,
      "outputs": [
        {
          "output_type": "stream",
          "name": "stdout",
          "text": [
            "\u001b[2K     \u001b[90m━━━━━━━━━━━━━━━━━━━━━━━━━━━━━━━━━━━━━━━━\u001b[0m \u001b[32m2.0/2.0 MB\u001b[0m \u001b[31m27.0 MB/s\u001b[0m eta \u001b[36m0:00:00\u001b[0m\n",
            "\u001b[2K     \u001b[90m━━━━━━━━━━━━━━━━━━━━━━━━━━━━━━━━━━━━━━━━\u001b[0m \u001b[32m290.4/290.4 kB\u001b[0m \u001b[31m17.1 MB/s\u001b[0m eta \u001b[36m0:00:00\u001b[0m\n",
            "\u001b[?25h"
          ]
        }
      ]
    },
    {
      "cell_type": "code",
      "execution_count": 4,
      "metadata": {
        "id": "5Rc53EZNY14D"
      },
      "outputs": [],
      "source": [
        "import re\n",
        "from youtube_transcript_api import YouTubeTranscriptApi\n",
        "\n",
        "def extract_id(video_url):\n",
        "  \"\"\"Extracts the video ID from a YouTube URL.\n",
        "\n",
        "  Args:\n",
        "      video_url: The YouTube URL string.\n",
        "\n",
        "  Returns:\n",
        "      The extracted video ID or None if not found.\n",
        "  \"\"\"\n",
        "  id = None\n",
        "  try:\n",
        "    id = re.search(r\"(?<=v=)([^&]+)\", video_url)\n",
        "  except:\n",
        "    pass  # Silently ignore the exception for \"v=\" case\n",
        "  if id is None:\n",
        "    try:\n",
        "      id = re.search(r\"(?<=be\\/)([^\\?]+)\", video_url)\n",
        "    except:\n",
        "      pass  # Silently ignore the exception for \"be/\" case\n",
        "  return id if id else None\n",
        "\n",
        "url1=\"https://www.youtube.com/watch?v=YUdiyhiyVVc\"\n",
        "url2=\"https://youtu.be/4AzpmZ7AjaQ?si=XkRKyHS1vfSAwLCB\"\n",
        "\n",
        "video_id=v=extract_id(url1)[0]"
      ]
    },
    {
      "cell_type": "code",
      "source": [
        "transcript=YouTubeTranscriptApi.get_transcript(v)"
      ],
      "metadata": {
        "id": "U2BUoRcwZI2n"
      },
      "execution_count": 5,
      "outputs": []
    },
    {
      "cell_type": "code",
      "source": [
        "type(transcript)"
      ],
      "metadata": {
        "colab": {
          "base_uri": "https://localhost:8080/"
        },
        "id": "P2tvLPGzZerc",
        "outputId": "4208d4df-bb7c-4fc3-a325-cf06d4c20b05"
      },
      "execution_count": 6,
      "outputs": [
        {
          "output_type": "execute_result",
          "data": {
            "text/plain": [
              "list"
            ]
          },
          "metadata": {},
          "execution_count": 6
        }
      ]
    },
    {
      "cell_type": "code",
      "source": [
        "%pip install llama-index-llms-gemini"
      ],
      "metadata": {
        "colab": {
          "base_uri": "https://localhost:8080/"
        },
        "id": "ahUzwyQAbNT9",
        "outputId": "ae306ebe-5bf5-4dd2-ef9a-ba7d67c65a67"
      },
      "execution_count": 7,
      "outputs": [
        {
          "output_type": "stream",
          "name": "stdout",
          "text": [
            "Requirement already satisfied: llama-index-llms-gemini in /usr/local/lib/python3.10/dist-packages (0.1.10)\n",
            "Requirement already satisfied: google-generativeai<0.6.0,>=0.5.2 in /usr/local/lib/python3.10/dist-packages (from llama-index-llms-gemini) (0.5.4)\n",
            "Requirement already satisfied: llama-index-core<0.11.0,>=0.10.11.post1 in /usr/local/lib/python3.10/dist-packages (from llama-index-llms-gemini) (0.10.41)\n",
            "Requirement already satisfied: pillow<11.0.0,>=10.2.0 in /usr/local/lib/python3.10/dist-packages (from llama-index-llms-gemini) (10.3.0)\n",
            "Requirement already satisfied: google-ai-generativelanguage==0.6.4 in /usr/local/lib/python3.10/dist-packages (from google-generativeai<0.6.0,>=0.5.2->llama-index-llms-gemini) (0.6.4)\n",
            "Requirement already satisfied: google-api-core in /usr/local/lib/python3.10/dist-packages (from google-generativeai<0.6.0,>=0.5.2->llama-index-llms-gemini) (2.11.1)\n",
            "Requirement already satisfied: google-api-python-client in /usr/local/lib/python3.10/dist-packages (from google-generativeai<0.6.0,>=0.5.2->llama-index-llms-gemini) (2.84.0)\n",
            "Requirement already satisfied: google-auth>=2.15.0 in /usr/local/lib/python3.10/dist-packages (from google-generativeai<0.6.0,>=0.5.2->llama-index-llms-gemini) (2.27.0)\n",
            "Requirement already satisfied: protobuf in /usr/local/lib/python3.10/dist-packages (from google-generativeai<0.6.0,>=0.5.2->llama-index-llms-gemini) (3.20.3)\n",
            "Requirement already satisfied: pydantic in /usr/local/lib/python3.10/dist-packages (from google-generativeai<0.6.0,>=0.5.2->llama-index-llms-gemini) (2.7.1)\n",
            "Requirement already satisfied: tqdm in /usr/local/lib/python3.10/dist-packages (from google-generativeai<0.6.0,>=0.5.2->llama-index-llms-gemini) (4.66.4)\n",
            "Requirement already satisfied: typing-extensions in /usr/local/lib/python3.10/dist-packages (from google-generativeai<0.6.0,>=0.5.2->llama-index-llms-gemini) (4.11.0)\n",
            "Requirement already satisfied: proto-plus<2.0.0dev,>=1.22.3 in /usr/local/lib/python3.10/dist-packages (from google-ai-generativelanguage==0.6.4->google-generativeai<0.6.0,>=0.5.2->llama-index-llms-gemini) (1.23.0)\n",
            "Requirement already satisfied: PyYAML>=6.0.1 in /usr/local/lib/python3.10/dist-packages (from llama-index-core<0.11.0,>=0.10.11.post1->llama-index-llms-gemini) (6.0.1)\n",
            "Requirement already satisfied: SQLAlchemy[asyncio]>=1.4.49 in /usr/local/lib/python3.10/dist-packages (from llama-index-core<0.11.0,>=0.10.11.post1->llama-index-llms-gemini) (2.0.30)\n",
            "Requirement already satisfied: aiohttp<4.0.0,>=3.8.6 in /usr/local/lib/python3.10/dist-packages (from llama-index-core<0.11.0,>=0.10.11.post1->llama-index-llms-gemini) (3.9.5)\n",
            "Requirement already satisfied: dataclasses-json in /usr/local/lib/python3.10/dist-packages (from llama-index-core<0.11.0,>=0.10.11.post1->llama-index-llms-gemini) (0.6.6)\n",
            "Requirement already satisfied: deprecated>=1.2.9.3 in /usr/local/lib/python3.10/dist-packages (from llama-index-core<0.11.0,>=0.10.11.post1->llama-index-llms-gemini) (1.2.14)\n",
            "Requirement already satisfied: dirtyjson<2.0.0,>=1.0.8 in /usr/local/lib/python3.10/dist-packages (from llama-index-core<0.11.0,>=0.10.11.post1->llama-index-llms-gemini) (1.0.8)\n",
            "Requirement already satisfied: fsspec>=2023.5.0 in /usr/local/lib/python3.10/dist-packages (from llama-index-core<0.11.0,>=0.10.11.post1->llama-index-llms-gemini) (2023.6.0)\n",
            "Requirement already satisfied: httpx in /usr/local/lib/python3.10/dist-packages (from llama-index-core<0.11.0,>=0.10.11.post1->llama-index-llms-gemini) (0.27.0)\n",
            "Requirement already satisfied: llamaindex-py-client<0.2.0,>=0.1.18 in /usr/local/lib/python3.10/dist-packages (from llama-index-core<0.11.0,>=0.10.11.post1->llama-index-llms-gemini) (0.1.19)\n",
            "Requirement already satisfied: nest-asyncio<2.0.0,>=1.5.8 in /usr/local/lib/python3.10/dist-packages (from llama-index-core<0.11.0,>=0.10.11.post1->llama-index-llms-gemini) (1.6.0)\n",
            "Requirement already satisfied: networkx>=3.0 in /usr/local/lib/python3.10/dist-packages (from llama-index-core<0.11.0,>=0.10.11.post1->llama-index-llms-gemini) (3.3)\n",
            "Requirement already satisfied: nltk<4.0.0,>=3.8.1 in /usr/local/lib/python3.10/dist-packages (from llama-index-core<0.11.0,>=0.10.11.post1->llama-index-llms-gemini) (3.8.1)\n",
            "Requirement already satisfied: numpy in /usr/local/lib/python3.10/dist-packages (from llama-index-core<0.11.0,>=0.10.11.post1->llama-index-llms-gemini) (1.25.2)\n",
            "Requirement already satisfied: openai>=1.1.0 in /usr/local/lib/python3.10/dist-packages (from llama-index-core<0.11.0,>=0.10.11.post1->llama-index-llms-gemini) (1.30.5)\n",
            "Requirement already satisfied: pandas in /usr/local/lib/python3.10/dist-packages (from llama-index-core<0.11.0,>=0.10.11.post1->llama-index-llms-gemini) (2.0.3)\n",
            "Requirement already satisfied: requests>=2.31.0 in /usr/local/lib/python3.10/dist-packages (from llama-index-core<0.11.0,>=0.10.11.post1->llama-index-llms-gemini) (2.31.0)\n",
            "Requirement already satisfied: tenacity<9.0.0,>=8.2.0 in /usr/local/lib/python3.10/dist-packages (from llama-index-core<0.11.0,>=0.10.11.post1->llama-index-llms-gemini) (8.3.0)\n",
            "Requirement already satisfied: tiktoken>=0.3.3 in /usr/local/lib/python3.10/dist-packages (from llama-index-core<0.11.0,>=0.10.11.post1->llama-index-llms-gemini) (0.7.0)\n",
            "Requirement already satisfied: typing-inspect>=0.8.0 in /usr/local/lib/python3.10/dist-packages (from llama-index-core<0.11.0,>=0.10.11.post1->llama-index-llms-gemini) (0.9.0)\n",
            "Requirement already satisfied: wrapt in /usr/local/lib/python3.10/dist-packages (from llama-index-core<0.11.0,>=0.10.11.post1->llama-index-llms-gemini) (1.14.1)\n",
            "Requirement already satisfied: aiosignal>=1.1.2 in /usr/local/lib/python3.10/dist-packages (from aiohttp<4.0.0,>=3.8.6->llama-index-core<0.11.0,>=0.10.11.post1->llama-index-llms-gemini) (1.3.1)\n",
            "Requirement already satisfied: attrs>=17.3.0 in /usr/local/lib/python3.10/dist-packages (from aiohttp<4.0.0,>=3.8.6->llama-index-core<0.11.0,>=0.10.11.post1->llama-index-llms-gemini) (23.2.0)\n",
            "Requirement already satisfied: frozenlist>=1.1.1 in /usr/local/lib/python3.10/dist-packages (from aiohttp<4.0.0,>=3.8.6->llama-index-core<0.11.0,>=0.10.11.post1->llama-index-llms-gemini) (1.4.1)\n",
            "Requirement already satisfied: multidict<7.0,>=4.5 in /usr/local/lib/python3.10/dist-packages (from aiohttp<4.0.0,>=3.8.6->llama-index-core<0.11.0,>=0.10.11.post1->llama-index-llms-gemini) (6.0.5)\n",
            "Requirement already satisfied: yarl<2.0,>=1.0 in /usr/local/lib/python3.10/dist-packages (from aiohttp<4.0.0,>=3.8.6->llama-index-core<0.11.0,>=0.10.11.post1->llama-index-llms-gemini) (1.9.4)\n",
            "Requirement already satisfied: async-timeout<5.0,>=4.0 in /usr/local/lib/python3.10/dist-packages (from aiohttp<4.0.0,>=3.8.6->llama-index-core<0.11.0,>=0.10.11.post1->llama-index-llms-gemini) (4.0.3)\n",
            "Requirement already satisfied: cachetools<6.0,>=2.0.0 in /usr/local/lib/python3.10/dist-packages (from google-auth>=2.15.0->google-generativeai<0.6.0,>=0.5.2->llama-index-llms-gemini) (5.3.3)\n",
            "Requirement already satisfied: pyasn1-modules>=0.2.1 in /usr/local/lib/python3.10/dist-packages (from google-auth>=2.15.0->google-generativeai<0.6.0,>=0.5.2->llama-index-llms-gemini) (0.4.0)\n",
            "Requirement already satisfied: rsa<5,>=3.1.4 in /usr/local/lib/python3.10/dist-packages (from google-auth>=2.15.0->google-generativeai<0.6.0,>=0.5.2->llama-index-llms-gemini) (4.9)\n",
            "Requirement already satisfied: anyio in /usr/local/lib/python3.10/dist-packages (from httpx->llama-index-core<0.11.0,>=0.10.11.post1->llama-index-llms-gemini) (3.7.1)\n",
            "Requirement already satisfied: certifi in /usr/local/lib/python3.10/dist-packages (from httpx->llama-index-core<0.11.0,>=0.10.11.post1->llama-index-llms-gemini) (2024.2.2)\n",
            "Requirement already satisfied: httpcore==1.* in /usr/local/lib/python3.10/dist-packages (from httpx->llama-index-core<0.11.0,>=0.10.11.post1->llama-index-llms-gemini) (1.0.5)\n",
            "Requirement already satisfied: idna in /usr/local/lib/python3.10/dist-packages (from httpx->llama-index-core<0.11.0,>=0.10.11.post1->llama-index-llms-gemini) (3.7)\n",
            "Requirement already satisfied: sniffio in /usr/local/lib/python3.10/dist-packages (from httpx->llama-index-core<0.11.0,>=0.10.11.post1->llama-index-llms-gemini) (1.3.1)\n",
            "Requirement already satisfied: h11<0.15,>=0.13 in /usr/local/lib/python3.10/dist-packages (from httpcore==1.*->httpx->llama-index-core<0.11.0,>=0.10.11.post1->llama-index-llms-gemini) (0.14.0)\n",
            "Requirement already satisfied: click in /usr/local/lib/python3.10/dist-packages (from nltk<4.0.0,>=3.8.1->llama-index-core<0.11.0,>=0.10.11.post1->llama-index-llms-gemini) (8.1.7)\n",
            "Requirement already satisfied: joblib in /usr/local/lib/python3.10/dist-packages (from nltk<4.0.0,>=3.8.1->llama-index-core<0.11.0,>=0.10.11.post1->llama-index-llms-gemini) (1.4.2)\n",
            "Requirement already satisfied: regex>=2021.8.3 in /usr/local/lib/python3.10/dist-packages (from nltk<4.0.0,>=3.8.1->llama-index-core<0.11.0,>=0.10.11.post1->llama-index-llms-gemini) (2024.5.15)\n",
            "Requirement already satisfied: distro<2,>=1.7.0 in /usr/lib/python3/dist-packages (from openai>=1.1.0->llama-index-core<0.11.0,>=0.10.11.post1->llama-index-llms-gemini) (1.7.0)\n",
            "Requirement already satisfied: annotated-types>=0.4.0 in /usr/local/lib/python3.10/dist-packages (from pydantic->google-generativeai<0.6.0,>=0.5.2->llama-index-llms-gemini) (0.7.0)\n",
            "Requirement already satisfied: pydantic-core==2.18.2 in /usr/local/lib/python3.10/dist-packages (from pydantic->google-generativeai<0.6.0,>=0.5.2->llama-index-llms-gemini) (2.18.2)\n",
            "Requirement already satisfied: charset-normalizer<4,>=2 in /usr/local/lib/python3.10/dist-packages (from requests>=2.31.0->llama-index-core<0.11.0,>=0.10.11.post1->llama-index-llms-gemini) (3.3.2)\n",
            "Requirement already satisfied: urllib3<3,>=1.21.1 in /usr/local/lib/python3.10/dist-packages (from requests>=2.31.0->llama-index-core<0.11.0,>=0.10.11.post1->llama-index-llms-gemini) (2.0.7)\n",
            "Requirement already satisfied: greenlet!=0.4.17 in /usr/local/lib/python3.10/dist-packages (from SQLAlchemy[asyncio]>=1.4.49->llama-index-core<0.11.0,>=0.10.11.post1->llama-index-llms-gemini) (3.0.3)\n",
            "Requirement already satisfied: mypy-extensions>=0.3.0 in /usr/local/lib/python3.10/dist-packages (from typing-inspect>=0.8.0->llama-index-core<0.11.0,>=0.10.11.post1->llama-index-llms-gemini) (1.0.0)\n",
            "Requirement already satisfied: marshmallow<4.0.0,>=3.18.0 in /usr/local/lib/python3.10/dist-packages (from dataclasses-json->llama-index-core<0.11.0,>=0.10.11.post1->llama-index-llms-gemini) (3.21.2)\n",
            "Requirement already satisfied: googleapis-common-protos<2.0.dev0,>=1.56.2 in /usr/local/lib/python3.10/dist-packages (from google-api-core->google-generativeai<0.6.0,>=0.5.2->llama-index-llms-gemini) (1.63.0)\n",
            "Requirement already satisfied: httplib2<1dev,>=0.15.0 in /usr/local/lib/python3.10/dist-packages (from google-api-python-client->google-generativeai<0.6.0,>=0.5.2->llama-index-llms-gemini) (0.22.0)\n",
            "Requirement already satisfied: google-auth-httplib2>=0.1.0 in /usr/local/lib/python3.10/dist-packages (from google-api-python-client->google-generativeai<0.6.0,>=0.5.2->llama-index-llms-gemini) (0.1.1)\n",
            "Requirement already satisfied: uritemplate<5,>=3.0.1 in /usr/local/lib/python3.10/dist-packages (from google-api-python-client->google-generativeai<0.6.0,>=0.5.2->llama-index-llms-gemini) (4.1.1)\n",
            "Requirement already satisfied: python-dateutil>=2.8.2 in /usr/local/lib/python3.10/dist-packages (from pandas->llama-index-core<0.11.0,>=0.10.11.post1->llama-index-llms-gemini) (2.8.2)\n",
            "Requirement already satisfied: pytz>=2020.1 in /usr/local/lib/python3.10/dist-packages (from pandas->llama-index-core<0.11.0,>=0.10.11.post1->llama-index-llms-gemini) (2023.4)\n",
            "Requirement already satisfied: tzdata>=2022.1 in /usr/local/lib/python3.10/dist-packages (from pandas->llama-index-core<0.11.0,>=0.10.11.post1->llama-index-llms-gemini) (2024.1)\n",
            "Requirement already satisfied: exceptiongroup in /usr/local/lib/python3.10/dist-packages (from anyio->httpx->llama-index-core<0.11.0,>=0.10.11.post1->llama-index-llms-gemini) (1.2.1)\n",
            "Requirement already satisfied: grpcio<2.0dev,>=1.33.2 in /usr/local/lib/python3.10/dist-packages (from google-api-core->google-generativeai<0.6.0,>=0.5.2->llama-index-llms-gemini) (1.64.0)\n",
            "Requirement already satisfied: grpcio-status<2.0.dev0,>=1.33.2 in /usr/local/lib/python3.10/dist-packages (from google-api-core->google-generativeai<0.6.0,>=0.5.2->llama-index-llms-gemini) (1.48.2)\n",
            "Requirement already satisfied: pyparsing!=3.0.0,!=3.0.1,!=3.0.2,!=3.0.3,<4,>=2.4.2 in /usr/local/lib/python3.10/dist-packages (from httplib2<1dev,>=0.15.0->google-api-python-client->google-generativeai<0.6.0,>=0.5.2->llama-index-llms-gemini) (3.1.2)\n",
            "Requirement already satisfied: packaging>=17.0 in /usr/local/lib/python3.10/dist-packages (from marshmallow<4.0.0,>=3.18.0->dataclasses-json->llama-index-core<0.11.0,>=0.10.11.post1->llama-index-llms-gemini) (24.0)\n",
            "Requirement already satisfied: pyasn1<0.7.0,>=0.4.6 in /usr/local/lib/python3.10/dist-packages (from pyasn1-modules>=0.2.1->google-auth>=2.15.0->google-generativeai<0.6.0,>=0.5.2->llama-index-llms-gemini) (0.6.0)\n",
            "Requirement already satisfied: six>=1.5 in /usr/local/lib/python3.10/dist-packages (from python-dateutil>=2.8.2->pandas->llama-index-core<0.11.0,>=0.10.11.post1->llama-index-llms-gemini) (1.16.0)\n"
          ]
        }
      ]
    },
    {
      "cell_type": "code",
      "source": [
        "!pip install -q llama-index google-generativeai"
      ],
      "metadata": {
        "id": "vtDdTz93bZTT"
      },
      "execution_count": 8,
      "outputs": []
    },
    {
      "cell_type": "code",
      "source": [
        "from google.colab import userdata\n",
        "api_key=userdata.get('GOOGLE_API_KEY')"
      ],
      "metadata": {
        "id": "AzAjVxNTbcWT"
      },
      "execution_count": 9,
      "outputs": []
    },
    {
      "cell_type": "code",
      "source": [
        "from llama_index.llms.gemini import Gemini\n",
        "\n",
        "resp = Gemini(api_key=api_key,model_name=\"models/gemini-1.5-pro\")\n",
        "\n",
        "print(resp.complete(\"Write a poem\"))"
      ],
      "metadata": {
        "colab": {
          "base_uri": "https://localhost:8080/",
          "height": 364
        },
        "id": "w0h-kuj6b4sC",
        "outputId": "51759521-f0b4-4a7a-9aa0-5d337f10d722"
      },
      "execution_count": 12,
      "outputs": [
        {
          "output_type": "stream",
          "name": "stdout",
          "text": [
            "The wind whispers secrets through leaves of jade,\n",
            "A symphony of rustling, light and shade.\n",
            "Sunlight dances, dappled on the ground,\n",
            "Where tiny blooms in vibrant hues abound.\n",
            "\n",
            "A silver stream, a ribbon through the green,\n",
            "Reflects the sky, a canvas serene.\n",
            "A hawk circles high, on currents warm,\n",
            "A silent guardian, safe from every storm.\n",
            "\n",
            "The air is sweet with scent of pine and earth,\n",
            "A gentle breeze, a whispered, joyful birth.\n",
            "The world unfolds, a tapestry so grand,\n",
            "A masterpiece, painted by nature's hand. \n",
            "\n",
            "So breathe it in, this moment, light and free,\n",
            "And let your worries fade into the sea.\n",
            "For in this space, where peace and beauty reign,\n",
            "Your weary soul can find its strength again. \n",
            "\n"
          ]
        }
      ]
    },
    {
      "cell_type": "code",
      "source": [
        "prompt=\"\"\"\n",
        "You are a Youtube Content Creation Subject Matter Expert.You need to create a\n",
        "youtube video script on the given{context}.\\\n",
        "you will be given  5 youtube video {transcripts} for reference\n",
        "you will have to create  a youtube video script for a duration of more than 10 miniutes .\n",
        "you will make sure the script is structured by seperated timestamps and time blocks and a summary of the context in the time block\n",
        "Make sure to format it in JSON format\n",
        "Make sure to make the video transcript that is more than 10 minutes long\n",
        "JSON output should contain timestamp,timeblock,summary and script\n",
        "\"\"\""
      ],
      "metadata": {
        "id": "Q18pWjCkcDvC"
      },
      "execution_count": 49,
      "outputs": []
    },
    {
      "cell_type": "code",
      "source": [
        "from llama_index.core import PromptTemplate"
      ],
      "metadata": {
        "id": "wOvZzwNzfOVH"
      },
      "execution_count": 50,
      "outputs": []
    },
    {
      "cell_type": "code",
      "source": [
        "prompt_tmpl = PromptTemplate(prompt)"
      ],
      "metadata": {
        "id": "RgeyvhjsgUHx"
      },
      "execution_count": 51,
      "outputs": []
    },
    {
      "cell_type": "code",
      "source": [
        "partial_prompt_tmpl = prompt_tmpl.partial_format(context=\"Self Help\")"
      ],
      "metadata": {
        "id": "4QluHwGdjCZ5"
      },
      "execution_count": 52,
      "outputs": []
    },
    {
      "cell_type": "code",
      "source": [
        "partial_prompt_tmpl.kwargs"
      ],
      "metadata": {
        "colab": {
          "base_uri": "https://localhost:8080/"
        },
        "id": "NMNlVxdBjUbn",
        "outputId": "2045efa5-2740-4532-994c-84288face9c8"
      },
      "execution_count": 53,
      "outputs": [
        {
          "output_type": "execute_result",
          "data": {
            "text/plain": [
              "{'context': 'Self Help'}"
            ]
          },
          "metadata": {},
          "execution_count": 53
        }
      ]
    },
    {
      "cell_type": "code",
      "source": [
        "\n",
        "fmt_prompt = partial_prompt_tmpl.format(\n",
        "    transcripts=transcript\n",
        ")\n",
        "print(fmt_prompt)"
      ],
      "metadata": {
        "colab": {
          "base_uri": "https://localhost:8080/"
        },
        "id": "RuyzhCDyjXkO",
        "outputId": "2b9df9ff-0862-4f99-d0ca-4974e21d58ae"
      },
      "execution_count": 54,
      "outputs": [
        {
          "output_type": "stream",
          "name": "stdout",
          "text": [
            "\n",
            "You are a Youtube Content Creation Subject Matter Expert.You need to create a\n",
            "youtube video script on the givenSelf Help.you will be given  5 youtube video [{'text': 'Transcriber: Daniela Michelle Palao Pineda\\nReviewer: Anna Sobota', 'start': 0.0, 'duration': 7.0}, {'text': 'There’s no such thing\\nas being born with self-doubt,', 'start': 1.431, 'duration': 2.736}, {'text': 'and I’ll prove it to you.', 'start': 4.167, 'duration': 1.402}, {'text': 'I challenge you to ask\\nany friendly neighborhood 12-month-old', 'start': 5.636, 'duration': 2.936}, {'text': 'at what point they would give up\\non learning to walk.', 'start': 8.572, 'duration': 2.569}, {'text': 'They’d likely look at you \\nwith bewilderment and mild amusement.', 'start': 11.241, 'duration': 3.037}, {'text': 'Okay, they’ll probably look bewildered\\nwhatever you say.', 'start': 14.278, 'duration': 2.736}, {'text': 'The typical 12 month old\\ninstinctively keeps trying to walk,', 'start': 17.014, 'duration': 3.036}, {'text': 'no matter how many times\\nthey fall and get up.', 'start': 20.05, 'duration': 2.836}, {'text': 'And unlike us, adults,', 'start': 23.086, 'duration': 1.368}, {'text': 'they won’t go 12 rounds against\\nthemselves for stumbling and falling.', 'start': 24.454, 'duration': 3.27}, {'text': 'They won’t compare \\nthemselves to a playdate', 'start': 27.958, 'duration': 2.102}, {'text': 'who’s showered with praise\\nfor successfully taking their first steps.', 'start': 30.06, 'duration': 3.337}, {'text': 'They just get on with it.', 'start': 33.53, 'duration': 1.535}, {'text': 'As we grow up,\\nsomewhere along our development,', 'start': 35.399, 'duration': 2.302}, {'text': 'patterns of thinking begin to emerge\\nthat lead us to experience self-doubt.', 'start': 37.768, 'duration': 4.204}, {'text': 'These could have originated from parents\\nimposing excessively high standards,', 'start': 42.172, 'duration': 3.804}, {'text': 'being compared to others\\nand experiencing shame,', 'start': 45.976, 'duration': 2.703}, {'text': 'being bullied\\nor underperforming at school,', 'start': 48.679, 'duration': 2.435}, {'text': 'or even growing up\\nin a toxic family dynamic.', 'start': 51.114, 'duration': 2.837}, {'text': 'If we’re not careful and allow\\nthese patterns to repeat themselves', 'start': 53.951, 'duration': 3.103}, {'text': 'thousands and thousands of times\\nin our consciousness,', 'start': 57.054, 'duration': 2.636}, {'text': 'they will morph into entrenched,\\nlimiting beliefs that kill our confidence', 'start': 59.69, 'duration': 4.304}, {'text': 'and prevent us from expressing\\nour innate potential.', 'start': 63.994, 'duration': 2.869}, {'text': 'But I’m not here to elaborate \\non how self-doubt is learned.', 'start': 66.863, 'duration': 2.97}, {'text': 'I’m not going to talk \\nabout how I’ve observed', 'start': 69.866, 'duration': 2.403}, {'text': 'through countless hours working\\nwith hundreds of teams at Fortune 500s', 'start': 72.269, 'duration': 3.97}, {'text': 'the debilitating impact', 'start': 76.273, 'duration': 1.635}, {'text': 'of how self-doubt robs people\\nof the joy of living and contributing.', 'start': 77.908, 'duration': 3.303}, {'text': 'What I am going to share\\nwith you is far more pragmatic', 'start': 82.179, 'duration': 3.37}, {'text': 'because through both our work\\nand my PhD research,', 'start': 85.816, 'duration': 2.636}, {'text': 'we’ve identified three universal\\nand distinct self-doubt mind pits', 'start': 88.452, 'duration': 4.771}, {'text': 'that most are unaware of.', 'start': 93.357, 'duration': 1.635}, {'text': 'Not only will I reveal these mind pits\\nso that you can easily recognize them,', 'start': 95.158, 'duration': 3.871}, {'text': 'but I’ll also share a proven,\\ndedicated habits', 'start': 99.029, 'duration': 2.97}, {'text': 'to help you climb out\\nand stay out of each one.', 'start': 101.999, 'duration': 2.802}, {'text': 'Simply freeing your mind from the grip\\nof these dominant thought patterns', 'start': 104.801, 'duration': 3.437}, {'text': 'transforms your life as it allows\\nyour attention to focus on what you want.', 'start': 108.238, 'duration': 4.638}, {'text': 'Before I reveal the first mind pit,\\nI’ll introduce you to Marco,', 'start': 113.176, 'duration': 3.537}, {'text': 'a rare breed of talented software engineer', 'start': 116.713, 'duration': 2.836}, {'text': 'that literally made billions\\nfor his big tech employer.', 'start': 119.549, 'duration': 3.104}, {'text': 'He reached out after feeling stuck\\nin an unfulfilling career', 'start': 122.653, 'duration': 3.37}, {'text': 'and having aspirations to launch startups\\nthat solve compelling global problems.', 'start': 126.023, 'duration': 4.137}, {'text': 'He’d done the research,\\nidentified interested parties', 'start': 130.46, 'duration': 2.57}, {'text': 'and prepared detailed business plans,', 'start': 133.03, 'duration': 1.935}, {'text': 'but despite months of preparation\\nhe never felt quite ready to act.', 'start': 135.132, 'duration': 4.137}, {'text': 'Despite his accolades \\nand confidence in his skills,', 'start': 139.436, 'duration': 2.97}, {'text': 'he was constantly second-guessing himself', 'start': 142.572, 'duration': 2.036}, {'text': 'every time he came close\\nto pushing the Go button.', 'start': 144.608, 'duration': 3.036}, {'text': 'Marco had fallen into the first mind pit,', 'start': 147.778, 'duration': 2.402}, {'text': 'which we call Failure to Launch.', 'start': 150.18, 'duration': 2.636}, {'text': 'This is the pit that keeps people stuck', 'start': 152.816, 'duration': 1.969}, {'text': 'in a perpetual cycle of research,\\nlearning and preparation,', 'start': 154.785, 'duration': 3.603}, {'text': 'endlessly consuming books, podcasts, \\ngoogling, taking courses,', 'start': 158.588, 'duration': 3.637}, {'text': 'acquiring extra qualifications,', 'start': 162.225, 'duration': 1.702}, {'text': 'constantly doubting \\nif they’re ready enough.', 'start': 163.927, 'duration': 2.436}, {'text': 'It causes us to be prone to “infomania”,\\nan insatiable desire to be in the know.', 'start': 166.363, 'duration': 5.539}, {'text': 'It keeps us in what Pfeffer and Sutton \\ntermed “The Knowing-Doing Trap”', 'start': 172.202, 'duration': 4.238}, {'text': 'in their Harvard Business Review article.', 'start': 176.44, 'duration': 2.002}, {'text': \"We know what needs to be done,\\nbut we don't do it.\", 'start': 178.442, 'duration': 3.837}, {'text': 'So how does one fall into the failure\\nto launch mind pit?', 'start': 182.279, 'duration': 2.903}, {'text': 'Well, the research reveals \\none common overarching theme:', 'start': 185.215, 'duration': 3.136}, {'text': 'rumination and overthinking,', 'start': 188.351, 'duration': 2.303}, {'text': 'which inevitably leads\\nto procrastination and stagnation.', 'start': 190.654, 'duration': 3.837}, {'text': 'Overthinking stems from our primitive\\ninstinct of self preservation.', 'start': 194.491, 'duration': 3.77}, {'text': 'In this state, we fixate\\non worst case scenarios,', 'start': 198.261, 'duration': 2.636}, {'text': '“What could go wrong and what’s missing?”', 'start': 200.897, 'duration': 2.136}, {'text': 'We excessively ruminate on what-ifs.', 'start': 203.033, 'duration': 2.736}, {'text': 'What if I fail?', 'start': 205.769, 'duration': 1.068}, {'text': 'What if I’m underqualified? \\nWhat if I’ve missed something?', 'start': 206.837, 'duration': 2.769}, {'text': 'This state orientation, \\nas termed by psychology literature,', 'start': 210.006, 'duration': 3.871}, {'text': 'paralyzes us.', 'start': 213.877, 'duration': 1.768}, {'text': 'Overthinking fuels the self-doubt, \\nkills confidence', 'start': 215.645, 'duration': 2.77}, {'text': 'and then leads to self-criticism.', 'start': 218.415, 'duration': 1.835}, {'text': 'Why is everyone so far ahead?', 'start': 220.25, 'duration': 1.635}, {'text': 'Why can’t I get started?', 'start': 221.885, 'duration': 1.435}, {'text': 'What is wrong with me?', 'start': 223.32, 'duration': 1.535}, {'text': 'The next mind pit after failure\\nto launch is an easier one to spot.', 'start': 224.855, 'duration': 3.603}, {'text': 'It’s what we call Treading water.', 'start': 228.492, 'duration': 2.102}, {'text': 'A talented academic once reached out', 'start': 230.994, 'duration': 1.869}, {'text': 'as he was tempted to drop out \\nof his PhD just a year from completion.', 'start': 232.863, 'duration': 4.07}, {'text': 'He shared that he’d actually dropped out\\nhalfway through a second master’s degree', 'start': 237.467, 'duration': 3.837}, {'text': 'to pursue the PhD.', 'start': 241.304, 'duration': 1.001}, {'text': 'He didn’t have to say \\nmuch more for me to recognize', 'start': 242.806, 'duration': 2.469}, {'text': 'he was stuck in a pattern\\nof failing to finish what he starts.', 'start': 245.275, 'duration': 3.403}, {'text': 'Despite all the talent, \\nhe couldn’t stick with his commitments.', 'start': 248.678, 'duration': 3.671}, {'text': 'He was treading water, \\nexhausting himself without going anywhere.', 'start': 252.349, 'duration': 4.304}, {'text': 'So what causes\\nso many high potential people', 'start': 256.653, 'duration': 2.469}, {'text': 'to start yet fail to finish?', 'start': 259.122, 'duration': 2.569}, {'text': 'Self-doubt can lead to hesitation,', 'start': 262.092, 'duration': 2.402}, {'text': 'to question whether\\nwe’ve made the right choice.', 'start': 264.828, 'duration': 2.536}, {'text': '“Should I have chosen this?\\nI think this was the wrong decision.', 'start': 267.364, 'duration': 3.036}, {'text': 'Maybe the other thing \\nwould have been better.”', 'start': 270.4, 'duration': 2.202}, {'text': 'You lose interest, you seek \\ngreener grass, you get bored.', 'start': 272.602, 'duration': 3.237}, {'text': 'And when you’re bored,', 'start': 275.839, 'duration': 1.168}, {'text': 'there is no more dopamine\\nto reward the work.', 'start': 277.007, 'duration': 2.335}, {'text': 'So instead of getting to the finish line,', 'start': 279.342, 'duration': 2.002}, {'text': 'it feels more rewarding to move on\\nto the next fresh and exciting thing.', 'start': 281.344, 'duration': 3.804}, {'text': 'And if we allow this cycle\\nto become habitual,', 'start': 285.148, 'duration': 2.603}, {'text': 'then we become stuck\\nin the treading water mind pit.', 'start': 287.751, 'duration': 3.003}, {'text': 'But there is an antidote', 'start': 291.054, 'duration': 1.535}, {'text': 'which we’ll get into right after revealing\\nthe final and third mind pit', 'start': 292.589, 'duration': 3.403}, {'text': 'of destination obsession.', 'start': 295.992, 'duration': 2.369}, {'text': 'See if you relate.', 'start': 298.361, 'duration': 1.502}, {'text': 'You set an exciting goal,', 'start': 299.863, 'duration': 1.702}, {'text': 'put in the work\\nand discipline to achieve it,', 'start': 301.565, 'duration': 2.235}, {'text': 'only to derive a short burst of pleasure\\nfollowed by a lack of fulfilment', 'start': 303.8, 'duration': 3.837}, {'text': 'so you immediately set the next goal.', 'start': 307.637, 'duration': 2.036}, {'text': 'And if left unchecked,\\nthis destination obsession', 'start': 309.673, 'duration': 2.769}, {'text': 'can lead to relentlessly chasing\\nthe short-lived euphoria of achievement.', 'start': 312.442, 'duration': 4.037}, {'text': 'A response collected through my PhD\\nresearch best encapsulates this state.', 'start': 316.479, 'duration': 4.271}, {'text': '“I’m always thinking\\nI should be doing more.”', 'start': 321.318, 'duration': 2.135}, {'text': '“I should have accomplished\\nway more than I did today.”', 'start': 323.453, 'duration': 2.936}, {'text': 'Sound familiar?', 'start': 326.389, 'duration': 1.202}, {'text': 'The destination obsession pit traps you', 'start': 327.591, 'duration': 2.402}, {'text': 'by making you feel \\nthat you’ve never done enough.', 'start': 329.993, 'duration': 2.603}, {'text': 'It even makes you feel guilty\\nwhen you take breaks.', 'start': 332.596, 'duration': 2.535}, {'text': 'It deludes you into thinking\\nthat I’ll finally be happy and feel worthy', 'start': 335.131, 'duration': 4.138}, {'text': 'when I get there.', 'start': 339.269, 'duration': 1.768}, {'text': 'But “there” is always out of reach.', 'start': 341.037, 'duration': 2.436}, {'text': \"Here's an example of how this plays out.\", 'start': 343.84, 'duration': 2.069}, {'text': 'Research has counterintuitively revealed', 'start': 345.909, 'duration': 2.602}, {'text': 'that bronze medallists\\nin individual Olympic competition', 'start': 348.511, 'duration': 3.204}, {'text': 'are likely to be happier\\nand more satisfied than silver medallists', 'start': 351.715, 'duration': 4.204}, {'text': 'simply for the reason\\nthat they compare downwards.', 'start': 355.919, 'duration': 2.869}, {'text': '“I almost missed the podium.\\nI am so happy I received a medal.”', 'start': 358.788, 'duration': 3.804}, {'text': 'Whereas silver medallists\\nare prone to compare upwards.', 'start': 362.592, 'duration': 2.87}, {'text': '“I was so close I could have won gold.”', 'start': 365.462, 'duration': 3.003}, {'text': \"If you're stuck in destination obsession,\", 'start': 368.465, 'duration': 2.135}, {'text': 'you’re also likely comparing yourself\\nto those ahead of you,', 'start': 370.6, 'duration': 3.27}, {'text': 'termed upward counterfactual thinking.', 'start': 373.904, 'duration': 2.602}, {'text': 'And instead of feeling inspired,', 'start': 376.506, 'duration': 1.902}, {'text': \"your self-doubt convinces you\\nthat you've fallen behind.\", 'start': 378.408, 'duration': 3.103}, {'text': 'You’re somehow deficient,\\nso you’re endlessly trying to catch up.', 'start': 381.511, 'duration': 3.637}, {'text': 'This mental pressure \\nisn’t only bad for well-being,', 'start': 385.181, 'duration': 2.703}, {'text': 'it doesn’t necessarily result \\nin optimum performance in the long term.', 'start': 387.884, 'duration': 3.937}, {'text': 'Okay, now that you’re aware\\nof the three mind pits,', 'start': 391.821, 'duration': 2.47}, {'text': 'how do you free yourself\\nand avoid falling in?', 'start': 394.324, 'duration': 2.703}, {'text': 'Starting with the first mind pit, \\nfailure to launch.', 'start': 397.16, 'duration': 3.003}, {'text': 'If you’re like Marco and so many others\\nwe’ve worked with,', 'start': 400.163, 'duration': 2.736}, {'text': 'then you’ll find the practice\\nof shifting your internal narrative', 'start': 402.933, 'duration': 3.203}, {'text': 'particularly helpful.', 'start': 406.136, 'duration': 1.301}, {'text': 'You see, procrastination \\nis often misinterpreted as laziness,', 'start': 407.437, 'duration': 4.238}, {'text': 'but there are two different things.', 'start': 411.675, 'duration': 1.701}, {'text': 'Procrastination is typically driven', 'start': 413.41, 'duration': 2.035}, {'text': 'by the avoidance of the pain associated\\nwith failure, rejection or criticism.', 'start': 415.445, 'duration': 4.671}, {'text': 'UCLA psychologists discovered\\nthat the pain of rejection or failure', 'start': 420.116, 'duration': 3.537}, {'text': 'activates the same areas\\nof the brain as physical pain.', 'start': 423.653, 'duration': 3.771}, {'text': 'It hurts, so it makes sense\\nthat your mind and body want to avoid it.', 'start': 427.624, 'duration': 3.737}, {'text': 'And this avoidance\\nmanifests as inner chatter.', 'start': 431.361, 'duration': 3.07}, {'text': 'So if you change the narrative,\\nyou eliminate the avoidance.', 'start': 434.464, 'duration': 4.071}, {'text': 'Next time you catch yourself\\nthinking “I can’t do this”', 'start': 438.735, 'duration': 3.403}, {'text': 'redirect to “How could I\\nmake this happen?”', 'start': 442.138, 'duration': 3.47}, {'text': 'Shift “I should do this”\\nor “I have to do that”', 'start': 445.608, 'duration': 3.637}, {'text': 'to “I get to do this”\\nor “I choose to do that.”', 'start': 449.245, 'duration': 3.804}, {'text': 'Instead of combating\\ndisempowering thoughts,', 'start': 453.049, 'duration': 2.436}, {'text': 'redirect your mind to empowering language\\nthat reflects personal control.', 'start': 455.485, 'duration': 4.338}, {'text': 'Finally, move from “why” to “what”.', 'start': 460.023, 'duration': 3.103}, {'text': 'Instead of “Why don’t I feel motivated?”', 'start': 463.126, 'duration': 2.502}, {'text': 'ask yourself “What can I do to get excited\\nabout getting this done?”', 'start': 465.662, 'duration': 4.104}, {'text': 'Studies show that this cognitive reframing', 'start': 469.766, 'duration': 2.803}, {'text': 'can be a powerful influence\\non how we feel.', 'start': 472.569, 'duration': 2.335}, {'text': 'When our thoughts are focused\\non taking action rather than overthinking,', 'start': 474.904, 'duration': 3.404}, {'text': 'we embody an “action orientation,”', 'start': 478.308, 'duration': 2.502}, {'text': 'a concept I’m researching for my PhD,', 'start': 480.81, 'duration': 2.102}, {'text': 'and it leads to better performance\\nand improved ability to handle setbacks.', 'start': 483.013, 'duration': 4.137}, {'text': 'So it’s vital that the reframing\\nis immediately followed by action.', 'start': 487.15, 'duration': 4.004}, {'text': 'We know from neuroimaging studies\\nthat your brain determines', 'start': 491.354, 'duration': 3.037}, {'text': 'whether something is exciting\\nor fear inducing in a split second.', 'start': 494.391, 'duration': 3.937}, {'text': \"It's called an emotional appraisal.\", 'start': 498.328, 'duration': 2.302}, {'text': 'By taking immediate action,', 'start': 500.63, 'duration': 1.769}, {'text': 'even if it’s small, messy, \\nimperfect action,', 'start': 502.399, 'duration': 2.969}, {'text': 'you short-circuit your way\\nout of overthinking.', 'start': 505.368, 'duration': 2.936}, {'text': 'You want to eject yourself out \\nof the failure to launch mind pit', 'start': 508.304, 'duration': 3.337}, {'text': 'by actually launching.', 'start': 511.641, 'duration': 1.835}, {'text': 'When it comes to the second\\nmind pit of treading water,', 'start': 513.476, 'duration': 2.67}, {'text': 'we’ve consistently found that it stems\\nfrom one thing, a lack of meaning.', 'start': 516.146, 'duration': 4.771}, {'text': 'It’s much easier to get cold feet\\nabout a commitment', 'start': 521.051, 'duration': 2.702}, {'text': 'when you’re not crystal clear\\nabout why you’ve committed,', 'start': 523.753, 'duration': 2.736}, {'text': 'especially when things get tough', 'start': 526.489, 'duration': 1.735}, {'text': 'or when you encounter\\nsomething new and exciting.', 'start': 528.358, 'duration': 2.469}, {'text': 'That talented academic I told you about,\\ndid drop out of his PhD', 'start': 531.194, 'duration': 3.704}, {'text': 'and founded a charity\\nto support troubled migrant youth,', 'start': 534.898, 'duration': 3.603}, {'text': 'something he was deeply passionate about,\\nand he remained 100% committed.', 'start': 538.501, 'duration': 4.438}, {'text': 'He’s helped thousands of young people \\nfind their fizz and change their lives.', 'start': 542.939, 'duration': 4.271}, {'text': 'By identifying\\nand aligning to a clear why,', 'start': 547.41, 'duration': 3.137}, {'text': 'he escaped the treading water mind pit.', 'start': 550.547, 'duration': 2.669}, {'text': 'If you find yourself stuck\\nin this mind pit,', 'start': 553.216, 'duration': 2.402}, {'text': 'schedule time to reflect on\\nwhy you’re doing what you’re doing.', 'start': 555.618, 'duration': 3.504}, {'text': 'What’s the bigger picture?', 'start': 559.122, 'duration': 1.468}, {'text': 'How can you zoom out and ascribe meaning?', 'start': 560.59, 'duration': 2.202}, {'text': 'Who are you serving?', 'start': 562.792, 'duration': 1.168}, {'text': 'How are you making a difference?', 'start': 563.96, 'duration': 1.668}, {'text': 'Ask yourself this core question,', 'start': 565.628, 'duration': 1.902}, {'text': '“This thing I’m doing, \\nthis goal I’m working towards,', 'start': 567.53, 'duration': 2.937}, {'text': 'it’s for the sake of what?”', 'start': 570.467, 'duration': 2.035}, {'text': 'And then when you face\\nthe inevitable roadblocks and friction,', 'start': 572.502, 'duration': 3.27}, {'text': 'remind yourself of that.', 'start': 575.905, 'duration': 1.569}, {'text': 'And finally,', 'start': 577.707, 'duration': 1.034}, {'text': 'the destination obsession mind pit.', 'start': 578.741, 'duration': 2.57}, {'text': \"When you're aware of this unhealthy,\\ndoubt driven behavior,\", 'start': 581.311, 'duration': 2.769}, {'text': 'remind yourself of the irrefutable\\ntruth that you are not your work.', 'start': 584.08, 'duration': 4.972}, {'text': 'Your worth is not entirely\\na reflection of your achievements,', 'start': 589.052, 'duration': 3.203}, {'text': 'and you’re not going to find\\nlasting contentment', 'start': 592.255, 'duration': 2.769}, {'text': 'on the hedonic treadmill of achievement.', 'start': 595.024, 'duration': 1.936}, {'text': 'Instead, set boundaries for yourself.', 'start': 597.227, 'duration': 2.435}, {'text': \"If your destination obsessed,\\nyou're likely disciplined.\", 'start': 600.096, 'duration': 2.77}, {'text': 'So channel that discipline \\nto commit to taking breaks.', 'start': 602.866, 'duration': 3.003}, {'text': 'We prioritize what we schedule\\nso schedule breaks that are purposeful:', 'start': 605.869, 'duration': 4.037}, {'text': 'to meditate, to activate your higher self,', 'start': 609.906, 'duration': 2.736}, {'text': 'to be truly present with family,\\nto experience rejuvenating exercise,', 'start': 612.642, 'duration': 4.371}, {'text': 'and importantly to reflect\\non the legacy you want to leave behind,', 'start': 617.013, 'duration': 4.204}, {'text': 'beyond your need to prove yourself.', 'start': 621.217, 'duration': 2.336}, {'text': 'Lastly, if you notice yourself \\nfeeling inadequate', 'start': 623.553, 'duration': 2.769}, {'text': 'due to comparing your current reality\\nto someone else’s,', 'start': 626.322, 'duration': 3.237}, {'text': 'shift the narrative, say,', 'start': 629.559, 'duration': 2.269}, {'text': '“I’m happy for this person. \\nWhat can I learn from their journey?”', 'start': 631.995, 'duration': 3.67}, {'text': 'All of these pits\\nare fueled by self-doubt,', 'start': 635.932, 'duration': 2.669}, {'text': 'and when we don’t reclaim control\\nof these habits,', 'start': 638.601, 'duration': 2.369}, {'text': 'they kill our confidence\\nin who we are and the value we bring.', 'start': 640.97, 'duration': 3.938}, {'text': 'Remember, your 12-month-old self\\nwasn’t born with self doubt.', 'start': 644.908, 'duration': 4.004}, {'text': 'It was learned along your journey,', 'start': 648.912, 'duration': 1.735}, {'text': 'which means you can unlearn it\\nthrough creating new, healthier habits', 'start': 650.647, 'duration': 4.17}, {'text': 'and tapping into the power of\\nneuroplasticity that rewires your brain.', 'start': 654.817, 'duration': 4.305}, {'text': 'As Will Durant wrote,', 'start': 659.122, 'duration': 1.568}, {'text': '“We are what we repeatedly do.', 'start': 660.69, 'duration': 2.636}, {'text': 'Excellence, then,\\nis not an act, but a habit.”', 'start': 663.326, 'duration': 2.936}, {'text': 'So make a commitment \\nto raise your self-awareness.', 'start': 666.262, 'duration': 3.037}, {'text': 'Notice the warning signs of those\\nhabits that kill your confidence', 'start': 669.299, 'duration': 3.303}, {'text': 'and take inspired action to dig yourself\\nout and stay out of the three mind pits.', 'start': 672.602, 'duration': 4.838}, {'text': 'It’s only then that you’ll be able\\nto tap into the beauty of the true self', 'start': 677.44, 'duration': 3.637}, {'text': 'that lies within.', 'start': 681.244, 'duration': 1.301}, {'text': 'Thank you.', 'start': 682.645, 'duration': 1.068}] for reference\n",
            "you will have to create  a youtube video script for a duration of more than 10 miniutes .\n",
            "you will make sure the script is structured by seperated timestamps and time blocks and a summary of the context in the time block\n",
            "Make sure to format it in JSON format\n",
            "Make sure to make the video transcript that is more than 10 minutes long\n",
            "JSON output should contain timestamp,timeblock,summary and script \n",
            "\n"
          ]
        }
      ]
    },
    {
      "cell_type": "code",
      "source": [
        "model=Gemini(api_key=api_key,model_name=\"models/gemini-1.5-pro\")"
      ],
      "metadata": {
        "id": "VnQdRKGgjrp0"
      },
      "execution_count": 55,
      "outputs": []
    },
    {
      "cell_type": "code",
      "source": [
        "from llama_index.core.query_pipeline import QueryPipeline"
      ],
      "metadata": {
        "id": "mjD1WZymnmLC"
      },
      "execution_count": 56,
      "outputs": []
    },
    {
      "cell_type": "code",
      "source": [
        "p = QueryPipeline(chain=[prompt_tmpl, model], verbose=True)"
      ],
      "metadata": {
        "id": "gWWV2zS9jqIt"
      },
      "execution_count": 57,
      "outputs": []
    },
    {
      "cell_type": "code",
      "source": [
        "processed_transcript=\"\".join([x['text'] for x in transcript])"
      ],
      "metadata": {
        "id": "QJOpzlebVUII"
      },
      "execution_count": 58,
      "outputs": []
    },
    {
      "cell_type": "code",
      "source": [
        "response=p.run(context=\"Self Help\",transcripts=processed_transcript)"
      ],
      "metadata": {
        "id": "fHYAij9GksbH",
        "colab": {
          "base_uri": "https://localhost:8080/",
          "height": 242
        },
        "outputId": "d66c654c-63f5-4de0-932e-d484eb3b915f"
      },
      "execution_count": 59,
      "outputs": [
        {
          "output_type": "stream",
          "name": "stdout",
          "text": [
            "\u001b[1;3;38;2;155;135;227m> Running module b59fbbe4-9434-44e3-8d99-59403ddfb5ad with input: \n",
            "context: Self Help\n",
            "transcripts: Transcriber: Daniela Michelle Palao Pineda\n",
            "Reviewer: Anna SobotaThere’s no such thing\n",
            "as being born with self-doubt,and I’ll prove it to you.I challenge you to ask\n",
            "any friendly neighborhood 12-month-o...\n",
            "\n",
            "\u001b[0m\u001b[1;3;38;2;155;135;227m> Running module e274e6b6-103e-486f-aafe-b4a1db89afd5 with input: \n",
            "messages: \n",
            "You are a Youtube Content Creation Subject Matter Expert.You need to create a\n",
            "youtube video script on the givenSelf Help.you will be given  5 youtube video Transcriber: Daniela Michelle Palao Pineda\n",
            "...\n",
            "\n",
            "\u001b[0m"
          ]
        }
      ]
    },
    {
      "cell_type": "code",
      "source": [
        "print(response)"
      ],
      "metadata": {
        "id": "Mb_wQH-_wNky",
        "colab": {
          "base_uri": "https://localhost:8080/"
        },
        "outputId": "96157045-b8b8-4d6e-c354-7740f9630c1d"
      },
      "execution_count": 60,
      "outputs": [
        {
          "output_type": "stream",
          "name": "stdout",
          "text": [
            "assistant: ```json\n",
            "[\n",
            "  {\n",
            "    \"timestamp\": \"0:00-0:30\",\n",
            "    \"timeblock\": \"Intro\",\n",
            "    \"summary\": \"Introduction to the concept of self-doubt and how it's a learned behavior, not an inherent trait. The speaker challenges the audience to recall the unwavering determination of a 12-month-old learning to walk, highlighting the contrast with adult self-doubt.\",\n",
            "    \"script\": \"Hey everyone, and welcome to today's video. We're diving deep into the world of self-doubt, and I'm here to tell you something you might find surprising: self-doubt isn't something you're born with. It's learned. Think about it. Have you ever seen a baby learning to walk give up? They stumble, they fall, but they get right back up and try again. They don't have the same internal critic that we develop as adults. So, if we learn self-doubt, we can unlearn it too, right?\"\n",
            "  },\n",
            "  {\n",
            "    \"timestamp\": \"0:30-2:00\",\n",
            "    \"timeblock\": \"The Three Mind Pits\",\n",
            "    \"summary\": \"Introduction of the three 'mind pits' of self-doubt: Failure to Launch, Treading Water, and Destination Obsession. Each pit is briefly explained, setting the stage for a deeper dive into each one.\",\n",
            "    \"script\": \"Absolutely. And to do that, we need to understand the different ways self-doubt shows up in our lives. I call these the three mind pits of self-doubt. The first one is the Failure to Launch pit. This is where overthinking and procrastination thrive. You're stuck in a cycle of planning and preparing but never actually taking action. The second pit is Treading Water. You start things with enthusiasm but quickly lose interest, jumping from one thing to another without ever making real progress. And finally, we have the Destination Obsession pit. This is where you're constantly chasing achievements, feeling like you're never doing enough, and finding it impossible to truly celebrate your successes.\"\n",
            "  },\n",
            "  {\n",
            "    \"timestamp\": \"2:00-4:30\",\n",
            "    \"timeblock\": \"Deep Dive: Failure to Launch\",\n",
            "    \"summary\": \"Detailed explanation of the Failure to Launch mind pit, including its root causes (rumination, overthinking, fear of failure), and its impact on confidence and action-taking. The example of 'Marco,' a successful software engineer paralyzed by self-doubt, is used to illustrate the pit's impact.\",\n",
            "    \"script\": \"Let's start by unpacking the Failure to Launch pit. This one's all about the fear of failure, rejection, and criticism. It's that voice in your head that says, 'What if it doesn't work out?' or 'What if I'm not good enough?' And this fear keeps us stuck in a loop of overthinking and analysis paralysis. We research endlessly, take course after course, but never feel quite ready to take the leap. I once worked with a software engineer named Marco. Brilliant guy, incredibly talented, but he was stuck in this pit. He had dreams of launching his own startups, had amazing ideas, but he could never bring himself to actually start. He was so afraid of failing that he never even gave himself the chance to succeed.\"\n",
            "  },\n",
            "  {\n",
            "    \"timestamp\": \"4:30-6:00\",\n",
            "    \"timeblock\": \"Deep Dive: Treading Water\",\n",
            "    \"summary\": \"Exploration of the Treading Water mind pit, emphasizing the role of a lack of meaning and purpose. The story of a PhD student who found his calling outside academia illustrates how aligning with one's 'why' can lead to greater commitment and fulfillment.\",\n",
            "    \"script\": \"Next, we have the Treading Water pit. This one's less about fear and more about a lack of meaning or purpose. You might start things with initial excitement, but that quickly fades when you don't feel deeply connected to what you're doing. I think of a PhD student I met who was incredibly bright but deeply unhappy. He was on the verge of dropping out, feeling lost and unfulfilled. It turned out, his passion wasn't in academia; it was in social work. He ended up founding a non-profit organization supporting underprivileged youth, and he's never looked back. Finding his 'why' gave him the clarity and motivation he needed to fully commit and thrive.\"\n",
            "  },\n",
            "  {\n",
            "    \"timestamp\": \"6:00-8:00\",\n",
            "    \"timeblock\": \"Deep Dive: Destination Obsession\",\n",
            "    \"summary\": \"Analysis of the Destination Obsession mind pit, highlighting the dangers of constant comparison, the pursuit of external validation, and the inability to find satisfaction in the present moment. The example of Olympic medalists' happiness levels is used to illustrate the pitfalls of upward comparison.\",\n",
            "    \"script\": \"Finally, let's talk about the Destination Obsession pit. This one's all about the relentless pursuit of achievement and the feeling that you're always one step behind. You're constantly comparing yourself to others, chasing external validation, and never allowing yourself to truly enjoy the journey. It's like you're on a treadmill, running and running but never actually getting anywhere. Interestingly, studies have shown that bronze medalists are often happier than silver medalists. Why? Because bronze medalists focus on what they've achieved – they made it to the podium! Silver medalists, on the other hand, tend to focus on what they didn't achieve – they almost won gold. It's a powerful example of how upward comparison can steal our joy.\"\n",
            "  },\n",
            "  {\n",
            "    \"timestamp\": \"8:00-10:00\",\n",
            "    \"timeblock\": \"Escaping the Mind Pits: Practical Strategies\",\n",
            "    \"summary\": \"Introduction of actionable strategies to escape each mind pit, emphasizing the importance of self-awareness, mindset shifts, and taking action. Techniques like reframing negative thoughts, identifying your 'why,' setting boundaries, and practicing gratitude are discussed.\",\n",
            "    \"script\": \"So, how do we escape these mind pits? It starts with awareness. Recognize which pit you tend to fall into. Once you're aware, you can start implementing strategies to climb out. For the Failure to Launch pit, it's all about shifting your mindset from overthinking to action-taking. Instead of focusing on what could go wrong, ask yourself, 'What if it goes right?' Break down your goals into smaller, more manageable steps, and celebrate each win along the way. For Treading Water, reconnect with your 'why.' What truly matters to you? What impact do you want to make? When you're aligned with your values and purpose, it's much easier to stay committed and find fulfillment in the journey. And for Destination Obsession, practice gratitude. Focus on what you've already accomplished and appreciate the present moment. Remember, true success is not about the destination; it's about the journey.\"\n",
            "  },\n",
            "  {\n",
            "    \"timestamp\": \"10:00-12:00\",\n",
            "    \"timeblock\": \"Conclusion: Embracing Your True Self\",\n",
            "    \"summary\": \"Concluding remarks emphasizing the power of self-compassion, the importance of celebrating progress over perfection, and the transformative potential of rewiring your relationship with self-doubt. The video ends with a call to action, encouraging viewers to implement the strategies discussed.\",\n",
            "    \"script\": \"Remember, overcoming self-doubt is a journey, not a destination. There will be ups and downs, but the key is to be kind to yourself along the way. Celebrate your progress, learn from your setbacks, and never stop believing in your potential. You are capable of amazing things. Now, I'd love to hear from you! Which mind pit do you resonate with the most? What strategies are you going to implement to start overcoming self-doubt? Share your thoughts in the comments below. And don't forget to like this video and subscribe to the channel for more videos on personal growth and self-discovery. Thanks for watching!\"\n",
            "  }\n",
            "]\n",
            "```\n"
          ]
        }
      ]
    },
    {
      "cell_type": "code",
      "source": [
        "import json"
      ],
      "metadata": {
        "id": "k2y9ldCvXYUP"
      },
      "execution_count": 61,
      "outputs": []
    },
    {
      "cell_type": "code",
      "source": [
        "json_file=response.json()"
      ],
      "metadata": {
        "id": "6bGoes5rZ1Xe"
      },
      "execution_count": 80,
      "outputs": []
    },
    {
      "cell_type": "code",
      "source": [
        "print(json_file)"
      ],
      "metadata": {
        "colab": {
          "base_uri": "https://localhost:8080/"
        },
        "id": "N0VXa7WBaDCM",
        "outputId": "ead8a37f-3baf-42e0-a062-b0ce3dceffe6"
      },
      "execution_count": 81,
      "outputs": [
        {
          "output_type": "stream",
          "name": "stdout",
          "text": [
            "{\"message\": {\"role\": \"assistant\", \"content\": \"```json\\n[\\n  {\\n    \\\"timestamp\\\": \\\"0:00-0:30\\\",\\n    \\\"timeblock\\\": \\\"Intro\\\",\\n    \\\"summary\\\": \\\"Introduction to the concept of self-doubt and how it's a learned behavior, not an inherent trait. The speaker challenges the audience to recall the unwavering determination of a 12-month-old learning to walk, highlighting the contrast with adult self-doubt.\\\",\\n    \\\"script\\\": \\\"Hey everyone, and welcome to today's video. We're diving deep into the world of self-doubt, and I'm here to tell you something you might find surprising: self-doubt isn't something you're born with. It's learned. Think about it. Have you ever seen a baby learning to walk give up? They stumble, they fall, but they get right back up and try again. They don't have the same internal critic that we develop as adults. So, if we learn self-doubt, we can unlearn it too, right?\\\"\\n  },\\n  {\\n    \\\"timestamp\\\": \\\"0:30-2:00\\\",\\n    \\\"timeblock\\\": \\\"The Three Mind Pits\\\",\\n    \\\"summary\\\": \\\"Introduction of the three 'mind pits' of self-doubt: Failure to Launch, Treading Water, and Destination Obsession. Each pit is briefly explained, setting the stage for a deeper dive into each one.\\\",\\n    \\\"script\\\": \\\"Absolutely. And to do that, we need to understand the different ways self-doubt shows up in our lives. I call these the three mind pits of self-doubt. The first one is the Failure to Launch pit. This is where overthinking and procrastination thrive. You're stuck in a cycle of planning and preparing but never actually taking action. The second pit is Treading Water. You start things with enthusiasm but quickly lose interest, jumping from one thing to another without ever making real progress. And finally, we have the Destination Obsession pit. This is where you're constantly chasing achievements, feeling like you're never doing enough, and finding it impossible to truly celebrate your successes.\\\"\\n  },\\n  {\\n    \\\"timestamp\\\": \\\"2:00-4:30\\\",\\n    \\\"timeblock\\\": \\\"Deep Dive: Failure to Launch\\\",\\n    \\\"summary\\\": \\\"Detailed explanation of the Failure to Launch mind pit, including its root causes (rumination, overthinking, fear of failure), and its impact on confidence and action-taking. The example of 'Marco,' a successful software engineer paralyzed by self-doubt, is used to illustrate the pit's impact.\\\",\\n    \\\"script\\\": \\\"Let's start by unpacking the Failure to Launch pit. This one's all about the fear of failure, rejection, and criticism. It's that voice in your head that says, 'What if it doesn't work out?' or 'What if I'm not good enough?' And this fear keeps us stuck in a loop of overthinking and analysis paralysis. We research endlessly, take course after course, but never feel quite ready to take the leap. I once worked with a software engineer named Marco. Brilliant guy, incredibly talented, but he was stuck in this pit. He had dreams of launching his own startups, had amazing ideas, but he could never bring himself to actually start. He was so afraid of failing that he never even gave himself the chance to succeed.\\\"\\n  },\\n  {\\n    \\\"timestamp\\\": \\\"4:30-6:00\\\",\\n    \\\"timeblock\\\": \\\"Deep Dive: Treading Water\\\",\\n    \\\"summary\\\": \\\"Exploration of the Treading Water mind pit, emphasizing the role of a lack of meaning and purpose. The story of a PhD student who found his calling outside academia illustrates how aligning with one's 'why' can lead to greater commitment and fulfillment.\\\",\\n    \\\"script\\\": \\\"Next, we have the Treading Water pit. This one's less about fear and more about a lack of meaning or purpose. You might start things with initial excitement, but that quickly fades when you don't feel deeply connected to what you're doing. I think of a PhD student I met who was incredibly bright but deeply unhappy. He was on the verge of dropping out, feeling lost and unfulfilled. It turned out, his passion wasn't in academia; it was in social work. He ended up founding a non-profit organization supporting underprivileged youth, and he's never looked back. Finding his 'why' gave him the clarity and motivation he needed to fully commit and thrive.\\\"\\n  },\\n  {\\n    \\\"timestamp\\\": \\\"6:00-8:00\\\",\\n    \\\"timeblock\\\": \\\"Deep Dive: Destination Obsession\\\",\\n    \\\"summary\\\": \\\"Analysis of the Destination Obsession mind pit, highlighting the dangers of constant comparison, the pursuit of external validation, and the inability to find satisfaction in the present moment. The example of Olympic medalists' happiness levels is used to illustrate the pitfalls of upward comparison.\\\",\\n    \\\"script\\\": \\\"Finally, let's talk about the Destination Obsession pit. This one's all about the relentless pursuit of achievement and the feeling that you're always one step behind. You're constantly comparing yourself to others, chasing external validation, and never allowing yourself to truly enjoy the journey. It's like you're on a treadmill, running and running but never actually getting anywhere. Interestingly, studies have shown that bronze medalists are often happier than silver medalists. Why? Because bronze medalists focus on what they've achieved \\u2013 they made it to the podium! Silver medalists, on the other hand, tend to focus on what they didn't achieve \\u2013 they almost won gold. It's a powerful example of how upward comparison can steal our joy.\\\"\\n  },\\n  {\\n    \\\"timestamp\\\": \\\"8:00-10:00\\\",\\n    \\\"timeblock\\\": \\\"Escaping the Mind Pits: Practical Strategies\\\",\\n    \\\"summary\\\": \\\"Introduction of actionable strategies to escape each mind pit, emphasizing the importance of self-awareness, mindset shifts, and taking action. Techniques like reframing negative thoughts, identifying your 'why,' setting boundaries, and practicing gratitude are discussed.\\\",\\n    \\\"script\\\": \\\"So, how do we escape these mind pits? It starts with awareness. Recognize which pit you tend to fall into. Once you're aware, you can start implementing strategies to climb out. For the Failure to Launch pit, it's all about shifting your mindset from overthinking to action-taking. Instead of focusing on what could go wrong, ask yourself, 'What if it goes right?' Break down your goals into smaller, more manageable steps, and celebrate each win along the way. For Treading Water, reconnect with your 'why.' What truly matters to you? What impact do you want to make? When you're aligned with your values and purpose, it's much easier to stay committed and find fulfillment in the journey. And for Destination Obsession, practice gratitude. Focus on what you've already accomplished and appreciate the present moment. Remember, true success is not about the destination; it's about the journey.\\\"\\n  },\\n  {\\n    \\\"timestamp\\\": \\\"10:00-12:00\\\",\\n    \\\"timeblock\\\": \\\"Conclusion: Embracing Your True Self\\\",\\n    \\\"summary\\\": \\\"Concluding remarks emphasizing the power of self-compassion, the importance of celebrating progress over perfection, and the transformative potential of rewiring your relationship with self-doubt. The video ends with a call to action, encouraging viewers to implement the strategies discussed.\\\",\\n    \\\"script\\\": \\\"Remember, overcoming self-doubt is a journey, not a destination. There will be ups and downs, but the key is to be kind to yourself along the way. Celebrate your progress, learn from your setbacks, and never stop believing in your potential. You are capable of amazing things. Now, I'd love to hear from you! Which mind pit do you resonate with the most? What strategies are you going to implement to start overcoming self-doubt? Share your thoughts in the comments below. And don't forget to like this video and subscribe to the channel for more videos on personal growth and self-discovery. Thanks for watching!\\\"\\n  }\\n]\\n```\", \"additional_kwargs\": {}}, \"raw\": {\"content\": {\"parts\": [{\"text\": \"```json\\n[\\n  {\\n    \\\"timestamp\\\": \\\"0:00-0:30\\\",\\n    \\\"timeblock\\\": \\\"Intro\\\",\\n    \\\"summary\\\": \\\"Introduction to the concept of self-doubt and how it's a learned behavior, not an inherent trait. The speaker challenges the audience to recall the unwavering determination of a 12-month-old learning to walk, highlighting the contrast with adult self-doubt.\\\",\\n    \\\"script\\\": \\\"Hey everyone, and welcome to today's video. We're diving deep into the world of self-doubt, and I'm here to tell you something you might find surprising: self-doubt isn't something you're born with. It's learned. Think about it. Have you ever seen a baby learning to walk give up? They stumble, they fall, but they get right back up and try again. They don't have the same internal critic that we develop as adults. So, if we learn self-doubt, we can unlearn it too, right?\\\"\\n  },\\n  {\\n    \\\"timestamp\\\": \\\"0:30-2:00\\\",\\n    \\\"timeblock\\\": \\\"The Three Mind Pits\\\",\\n    \\\"summary\\\": \\\"Introduction of the three 'mind pits' of self-doubt: Failure to Launch, Treading Water, and Destination Obsession. Each pit is briefly explained, setting the stage for a deeper dive into each one.\\\",\\n    \\\"script\\\": \\\"Absolutely. And to do that, we need to understand the different ways self-doubt shows up in our lives. I call these the three mind pits of self-doubt. The first one is the Failure to Launch pit. This is where overthinking and procrastination thrive. You're stuck in a cycle of planning and preparing but never actually taking action. The second pit is Treading Water. You start things with enthusiasm but quickly lose interest, jumping from one thing to another without ever making real progress. And finally, we have the Destination Obsession pit. This is where you're constantly chasing achievements, feeling like you're never doing enough, and finding it impossible to truly celebrate your successes.\\\"\\n  },\\n  {\\n    \\\"timestamp\\\": \\\"2:00-4:30\\\",\\n    \\\"timeblock\\\": \\\"Deep Dive: Failure to Launch\\\",\\n    \\\"summary\\\": \\\"Detailed explanation of the Failure to Launch mind pit, including its root causes (rumination, overthinking, fear of failure), and its impact on confidence and action-taking. The example of 'Marco,' a successful software engineer paralyzed by self-doubt, is used to illustrate the pit's impact.\\\",\\n    \\\"script\\\": \\\"Let's start by unpacking the Failure to Launch pit. This one's all about the fear of failure, rejection, and criticism. It's that voice in your head that says, 'What if it doesn't work out?' or 'What if I'm not good enough?' And this fear keeps us stuck in a loop of overthinking and analysis paralysis. We research endlessly, take course after course, but never feel quite ready to take the leap. I once worked with a software engineer named Marco. Brilliant guy, incredibly talented, but he was stuck in this pit. He had dreams of launching his own startups, had amazing ideas, but he could never bring himself to actually start. He was so afraid of failing that he never even gave himself the chance to succeed.\\\"\\n  },\\n  {\\n    \\\"timestamp\\\": \\\"4:30-6:00\\\",\\n    \\\"timeblock\\\": \\\"Deep Dive: Treading Water\\\",\\n    \\\"summary\\\": \\\"Exploration of the Treading Water mind pit, emphasizing the role of a lack of meaning and purpose. The story of a PhD student who found his calling outside academia illustrates how aligning with one's 'why' can lead to greater commitment and fulfillment.\\\",\\n    \\\"script\\\": \\\"Next, we have the Treading Water pit. This one's less about fear and more about a lack of meaning or purpose. You might start things with initial excitement, but that quickly fades when you don't feel deeply connected to what you're doing. I think of a PhD student I met who was incredibly bright but deeply unhappy. He was on the verge of dropping out, feeling lost and unfulfilled. It turned out, his passion wasn't in academia; it was in social work. He ended up founding a non-profit organization supporting underprivileged youth, and he's never looked back. Finding his 'why' gave him the clarity and motivation he needed to fully commit and thrive.\\\"\\n  },\\n  {\\n    \\\"timestamp\\\": \\\"6:00-8:00\\\",\\n    \\\"timeblock\\\": \\\"Deep Dive: Destination Obsession\\\",\\n    \\\"summary\\\": \\\"Analysis of the Destination Obsession mind pit, highlighting the dangers of constant comparison, the pursuit of external validation, and the inability to find satisfaction in the present moment. The example of Olympic medalists' happiness levels is used to illustrate the pitfalls of upward comparison.\\\",\\n    \\\"script\\\": \\\"Finally, let's talk about the Destination Obsession pit. This one's all about the relentless pursuit of achievement and the feeling that you're always one step behind. You're constantly comparing yourself to others, chasing external validation, and never allowing yourself to truly enjoy the journey. It's like you're on a treadmill, running and running but never actually getting anywhere. Interestingly, studies have shown that bronze medalists are often happier than silver medalists. Why? Because bronze medalists focus on what they've achieved \\u2013 they made it to the podium! Silver medalists, on the other hand, tend to focus on what they didn't achieve \\u2013 they almost won gold. It's a powerful example of how upward comparison can steal our joy.\\\"\\n  },\\n  {\\n    \\\"timestamp\\\": \\\"8:00-10:00\\\",\\n    \\\"timeblock\\\": \\\"Escaping the Mind Pits: Practical Strategies\\\",\\n    \\\"summary\\\": \\\"Introduction of actionable strategies to escape each mind pit, emphasizing the importance of self-awareness, mindset shifts, and taking action. Techniques like reframing negative thoughts, identifying your 'why,' setting boundaries, and practicing gratitude are discussed.\\\",\\n    \\\"script\\\": \\\"So, how do we escape these mind pits? It starts with awareness. Recognize which pit you tend to fall into. Once you're aware, you can start implementing strategies to climb out. For the Failure to Launch pit, it's all about shifting your mindset from overthinking to action-taking. Instead of focusing on what could go wrong, ask yourself, 'What if it goes right?' Break down your goals into smaller, more manageable steps, and celebrate each win along the way. For Treading Water, reconnect with your 'why.' What truly matters to you? What impact do you want to make? When you're aligned with your values and purpose, it's much easier to stay committed and find fulfillment in the journey. And for Destination Obsession, practice gratitude. Focus on what you've already accomplished and appreciate the present moment. Remember, true success is not about the destination; it's about the journey.\\\"\\n  },\\n  {\\n    \\\"timestamp\\\": \\\"10:00-12:00\\\",\\n    \\\"timeblock\\\": \\\"Conclusion: Embracing Your True Self\\\",\\n    \\\"summary\\\": \\\"Concluding remarks emphasizing the power of self-compassion, the importance of celebrating progress over perfection, and the transformative potential of rewiring your relationship with self-doubt. The video ends with a call to action, encouraging viewers to implement the strategies discussed.\\\",\\n    \\\"script\\\": \\\"Remember, overcoming self-doubt is a journey, not a destination. There will be ups and downs, but the key is to be kind to yourself along the way. Celebrate your progress, learn from your setbacks, and never stop believing in your potential. You are capable of amazing things. Now, I'd love to hear from you! Which mind pit do you resonate with the most? What strategies are you going to implement to start overcoming self-doubt? Share your thoughts in the comments below. And don't forget to like this video and subscribe to the channel for more videos on personal growth and self-discovery. Thanks for watching!\\\"\\n  }\\n]\\n```\"}], \"role\": \"model\"}, \"finish_reason\": 1, \"index\": 0, \"safety_ratings\": [], \"token_count\": 0, \"grounding_attributions\": [], \"block_reason\": 0}, \"delta\": null, \"logprobs\": null, \"additional_kwargs\": {}}\n"
          ]
        }
      ]
    },
    {
      "cell_type": "code",
      "source": [
        "#files=json.dumps(json_file)"
      ],
      "metadata": {
        "id": "yjYJSvuXaQi2"
      },
      "execution_count": 73,
      "outputs": []
    },
    {
      "cell_type": "code",
      "source": [
        "json_dict=json.loads(json_file)"
      ],
      "metadata": {
        "id": "jX0wt7cIad17"
      },
      "execution_count": 83,
      "outputs": []
    },
    {
      "cell_type": "code",
      "source": [
        "print(json_dict['message']['content'])"
      ],
      "metadata": {
        "colab": {
          "base_uri": "https://localhost:8080/"
        },
        "id": "yEfCEO08afgj",
        "outputId": "cb4b30bd-e00a-4e0c-f02f-81137436fbc2"
      },
      "execution_count": 88,
      "outputs": [
        {
          "output_type": "stream",
          "name": "stdout",
          "text": [
            "```json\n",
            "[\n",
            "  {\n",
            "    \"timestamp\": \"0:00-0:30\",\n",
            "    \"timeblock\": \"Intro\",\n",
            "    \"summary\": \"Introduction to the concept of self-doubt and how it's a learned behavior, not an inherent trait. The speaker challenges the audience to recall the unwavering determination of a 12-month-old learning to walk, highlighting the contrast with adult self-doubt.\",\n",
            "    \"script\": \"Hey everyone, and welcome to today's video. We're diving deep into the world of self-doubt, and I'm here to tell you something you might find surprising: self-doubt isn't something you're born with. It's learned. Think about it. Have you ever seen a baby learning to walk give up? They stumble, they fall, but they get right back up and try again. They don't have the same internal critic that we develop as adults. So, if we learn self-doubt, we can unlearn it too, right?\"\n",
            "  },\n",
            "  {\n",
            "    \"timestamp\": \"0:30-2:00\",\n",
            "    \"timeblock\": \"The Three Mind Pits\",\n",
            "    \"summary\": \"Introduction of the three 'mind pits' of self-doubt: Failure to Launch, Treading Water, and Destination Obsession. Each pit is briefly explained, setting the stage for a deeper dive into each one.\",\n",
            "    \"script\": \"Absolutely. And to do that, we need to understand the different ways self-doubt shows up in our lives. I call these the three mind pits of self-doubt. The first one is the Failure to Launch pit. This is where overthinking and procrastination thrive. You're stuck in a cycle of planning and preparing but never actually taking action. The second pit is Treading Water. You start things with enthusiasm but quickly lose interest, jumping from one thing to another without ever making real progress. And finally, we have the Destination Obsession pit. This is where you're constantly chasing achievements, feeling like you're never doing enough, and finding it impossible to truly celebrate your successes.\"\n",
            "  },\n",
            "  {\n",
            "    \"timestamp\": \"2:00-4:30\",\n",
            "    \"timeblock\": \"Deep Dive: Failure to Launch\",\n",
            "    \"summary\": \"Detailed explanation of the Failure to Launch mind pit, including its root causes (rumination, overthinking, fear of failure), and its impact on confidence and action-taking. The example of 'Marco,' a successful software engineer paralyzed by self-doubt, is used to illustrate the pit's impact.\",\n",
            "    \"script\": \"Let's start by unpacking the Failure to Launch pit. This one's all about the fear of failure, rejection, and criticism. It's that voice in your head that says, 'What if it doesn't work out?' or 'What if I'm not good enough?' And this fear keeps us stuck in a loop of overthinking and analysis paralysis. We research endlessly, take course after course, but never feel quite ready to take the leap. I once worked with a software engineer named Marco. Brilliant guy, incredibly talented, but he was stuck in this pit. He had dreams of launching his own startups, had amazing ideas, but he could never bring himself to actually start. He was so afraid of failing that he never even gave himself the chance to succeed.\"\n",
            "  },\n",
            "  {\n",
            "    \"timestamp\": \"4:30-6:00\",\n",
            "    \"timeblock\": \"Deep Dive: Treading Water\",\n",
            "    \"summary\": \"Exploration of the Treading Water mind pit, emphasizing the role of a lack of meaning and purpose. The story of a PhD student who found his calling outside academia illustrates how aligning with one's 'why' can lead to greater commitment and fulfillment.\",\n",
            "    \"script\": \"Next, we have the Treading Water pit. This one's less about fear and more about a lack of meaning or purpose. You might start things with initial excitement, but that quickly fades when you don't feel deeply connected to what you're doing. I think of a PhD student I met who was incredibly bright but deeply unhappy. He was on the verge of dropping out, feeling lost and unfulfilled. It turned out, his passion wasn't in academia; it was in social work. He ended up founding a non-profit organization supporting underprivileged youth, and he's never looked back. Finding his 'why' gave him the clarity and motivation he needed to fully commit and thrive.\"\n",
            "  },\n",
            "  {\n",
            "    \"timestamp\": \"6:00-8:00\",\n",
            "    \"timeblock\": \"Deep Dive: Destination Obsession\",\n",
            "    \"summary\": \"Analysis of the Destination Obsession mind pit, highlighting the dangers of constant comparison, the pursuit of external validation, and the inability to find satisfaction in the present moment. The example of Olympic medalists' happiness levels is used to illustrate the pitfalls of upward comparison.\",\n",
            "    \"script\": \"Finally, let's talk about the Destination Obsession pit. This one's all about the relentless pursuit of achievement and the feeling that you're always one step behind. You're constantly comparing yourself to others, chasing external validation, and never allowing yourself to truly enjoy the journey. It's like you're on a treadmill, running and running but never actually getting anywhere. Interestingly, studies have shown that bronze medalists are often happier than silver medalists. Why? Because bronze medalists focus on what they've achieved – they made it to the podium! Silver medalists, on the other hand, tend to focus on what they didn't achieve – they almost won gold. It's a powerful example of how upward comparison can steal our joy.\"\n",
            "  },\n",
            "  {\n",
            "    \"timestamp\": \"8:00-10:00\",\n",
            "    \"timeblock\": \"Escaping the Mind Pits: Practical Strategies\",\n",
            "    \"summary\": \"Introduction of actionable strategies to escape each mind pit, emphasizing the importance of self-awareness, mindset shifts, and taking action. Techniques like reframing negative thoughts, identifying your 'why,' setting boundaries, and practicing gratitude are discussed.\",\n",
            "    \"script\": \"So, how do we escape these mind pits? It starts with awareness. Recognize which pit you tend to fall into. Once you're aware, you can start implementing strategies to climb out. For the Failure to Launch pit, it's all about shifting your mindset from overthinking to action-taking. Instead of focusing on what could go wrong, ask yourself, 'What if it goes right?' Break down your goals into smaller, more manageable steps, and celebrate each win along the way. For Treading Water, reconnect with your 'why.' What truly matters to you? What impact do you want to make? When you're aligned with your values and purpose, it's much easier to stay committed and find fulfillment in the journey. And for Destination Obsession, practice gratitude. Focus on what you've already accomplished and appreciate the present moment. Remember, true success is not about the destination; it's about the journey.\"\n",
            "  },\n",
            "  {\n",
            "    \"timestamp\": \"10:00-12:00\",\n",
            "    \"timeblock\": \"Conclusion: Embracing Your True Self\",\n",
            "    \"summary\": \"Concluding remarks emphasizing the power of self-compassion, the importance of celebrating progress over perfection, and the transformative potential of rewiring your relationship with self-doubt. The video ends with a call to action, encouraging viewers to implement the strategies discussed.\",\n",
            "    \"script\": \"Remember, overcoming self-doubt is a journey, not a destination. There will be ups and downs, but the key is to be kind to yourself along the way. Celebrate your progress, learn from your setbacks, and never stop believing in your potential. You are capable of amazing things. Now, I'd love to hear from you! Which mind pit do you resonate with the most? What strategies are you going to implement to start overcoming self-doubt? Share your thoughts in the comments below. And don't forget to like this video and subscribe to the channel for more videos on personal growth and self-discovery. Thanks for watching!\"\n",
            "  }\n",
            "]\n",
            "```\n"
          ]
        }
      ]
    },
    {
      "cell_type": "code",
      "source": [],
      "metadata": {
        "id": "1lgRDvf0bOTF"
      },
      "execution_count": null,
      "outputs": []
    },
    {
      "cell_type": "markdown",
      "source": [
        "# Version 2"
      ],
      "metadata": {
        "id": "rCFN2ahOd1MO"
      }
    },
    {
      "cell_type": "code",
      "source": [
        "urls_for_getting_transcript={\"SimpliLearn_Bigdata_Visualization\":\"https://youtu.be/MiiANxRHSv4?si=FhChhEUuttvV0J_E\",\n",
        " \"ted_talk_data_visulaisation\":\"https://youtu.be/5Zg-C8AAIGg?si=1AQZF0Cu0gkXSAkE\",\n",
        " \"one_minute_video\":\"https://youtu.be/xekEXM0Vonc?si=rHsFl9wb2lB0dNzf\",\n",
        " \"Evolution of Visulaisation ted talk\":\"https://youtu.be/sOJet45-kcY?si=Wzri1TU7n08XjqSM\"}"
      ],
      "metadata": {
        "id": "JD0QZlwUd3vb"
      },
      "execution_count": 89,
      "outputs": []
    },
    {
      "cell_type": "code",
      "source": [
        "urls=list(urls_for_getting_transcript.values())"
      ],
      "metadata": {
        "id": "jV15ifo2e2hy"
      },
      "execution_count": 91,
      "outputs": []
    },
    {
      "cell_type": "code",
      "source": [
        "video_ids=[extract_id(i)[0] for i in urls]"
      ],
      "metadata": {
        "id": "lujDgLhve7J4"
      },
      "execution_count": 94,
      "outputs": []
    },
    {
      "cell_type": "code",
      "source": [
        "youtube_transcripts=YouTubeTranscriptApi.get_transcripts(video_ids, languages=['en'])"
      ],
      "metadata": {
        "id": "M1apzezEfduO"
      },
      "execution_count": 96,
      "outputs": []
    },
    {
      "cell_type": "code",
      "source": [
        "video_ids"
      ],
      "metadata": {
        "colab": {
          "base_uri": "https://localhost:8080/"
        },
        "id": "foeTrB9PgQDo",
        "outputId": "71b52b08-b66d-4d20-fb57-cdba6be42678"
      },
      "execution_count": 104,
      "outputs": [
        {
          "output_type": "execute_result",
          "data": {
            "text/plain": [
              "['MiiANxRHSv4', '5Zg-C8AAIGg', 'xekEXM0Vonc', 'sOJet45-kcY']"
            ]
          },
          "metadata": {},
          "execution_count": 104
        }
      ]
    },
    {
      "cell_type": "code",
      "source": [
        "youtube_transcripts[0]['MiiANxRHSv4'][0]"
      ],
      "metadata": {
        "colab": {
          "base_uri": "https://localhost:8080/"
        },
        "id": "RujpTyRYfowW",
        "outputId": "656b64f3-444d-400d-c0e7-3617fd395352"
      },
      "execution_count": 103,
      "outputs": [
        {
          "output_type": "execute_result",
          "data": {
            "text/plain": [
              "{'text': \"let's now start this lesson by defining\",\n",
              " 'start': 10.24,\n",
              " 'duration': 4.399}"
            ]
          },
          "metadata": {},
          "execution_count": 103
        }
      ]
    },
    {
      "cell_type": "code",
      "source": [
        "youtube_transcripts[0]['xekEXM0Vonc'][0]"
      ],
      "metadata": {
        "colab": {
          "base_uri": "https://localhost:8080/"
        },
        "id": "xURAcRkpfqUG",
        "outputId": "7e41df7b-628c-446f-883f-64047cf3c8d0"
      },
      "execution_count": 108,
      "outputs": [
        {
          "output_type": "execute_result",
          "data": {
            "text/plain": [
              "{'text': '[Music]', 'start': 10.12, 'duration': 5.31}"
            ]
          },
          "metadata": {},
          "execution_count": 108
        }
      ]
    },
    {
      "cell_type": "code",
      "source": [
        "youtube_transcripts[0]['5Zg-C8AAIGg'][0]"
      ],
      "metadata": {
        "colab": {
          "base_uri": "https://localhost:8080/"
        },
        "id": "zocgLTyjgWOr",
        "outputId": "93c0bc4e-289b-450e-d608-7783d9888108"
      },
      "execution_count": 110,
      "outputs": [
        {
          "output_type": "execute_result",
          "data": {
            "text/plain": [
              "{'text': '[Music]', 'start': 2.58, 'duration': 3.16}"
            ]
          },
          "metadata": {},
          "execution_count": 110
        }
      ]
    },
    {
      "cell_type": "code",
      "source": [
        "unprocessed_transcripts_set=[]\n",
        "for i in video_ids:\n",
        "  unprocessed_transcripts_set.append(youtube_transcripts[0][i])"
      ],
      "metadata": {
        "id": "ESn-q3CFhKQk"
      },
      "execution_count": 123,
      "outputs": []
    },
    {
      "cell_type": "code",
      "source": [
        "processed_transcripts_set=[]\n",
        "for the_transcript in unprocessed_transcripts_set:\n",
        "      processed_transcripts_set.append(\"\".join([x['text'] for x in the_transcript]))"
      ],
      "metadata": {
        "id": "9o9x0fo9ha2C"
      },
      "execution_count": 128,
      "outputs": []
    },
    {
      "cell_type": "code",
      "source": [
        "prompt_template=PromptTemplate(prompt)"
      ],
      "metadata": {
        "id": "giod_ucZgl4L"
      },
      "execution_count": 129,
      "outputs": []
    },
    {
      "cell_type": "code",
      "source": [
        "pipeline = QueryPipeline(chain=[prompt_template, model], verbose=True)"
      ],
      "metadata": {
        "id": "Ofsv6MBZg1-6"
      },
      "execution_count": 130,
      "outputs": []
    },
    {
      "cell_type": "code",
      "source": [
        "llm_response=pipeline.run(context=\"Data VisuliZation\",transcripts=processed_transcripts_set)"
      ],
      "metadata": {
        "id": "9SyrspUcg-bD",
        "outputId": "007a3428-fbff-48e2-dbe9-9eb82202f2cb",
        "colab": {
          "base_uri": "https://localhost:8080/",
          "height": 193
        }
      },
      "execution_count": 131,
      "outputs": [
        {
          "output_type": "stream",
          "name": "stdout",
          "text": [
            "\u001b[1;3;38;2;155;135;227m> Running module 3b6c447c-0429-41db-9148-70689a0ea94a with input: \n",
            "context: Data VisuliZation\n",
            "transcripts: [\"[Music]let's now start this lesson by definingwhat data visualization isdata visualization is the technique topresent the data in a pictorial orgraphical formatit enables stakeholders and decisionma...\n",
            "\n",
            "\u001b[0m\u001b[1;3;38;2;155;135;227m> Running module 16a38c67-3f84-48d0-8112-25392ae48a19 with input: \n",
            "messages: \n",
            "You are a Youtube Content Creation Subject Matter Expert.You need to create a\n",
            "youtube video script on the givenData VisuliZation.you will be given  5 youtube video [\"[Music]let's now start this lesso...\n",
            "\n",
            "\u001b[0m"
          ]
        }
      ]
    },
    {
      "cell_type": "code",
      "source": [
        "print(llm_response)"
      ],
      "metadata": {
        "id": "KXURd32yiVK_",
        "outputId": "c38b2d43-c954-4d15-850e-db5fdacb89f3",
        "colab": {
          "base_uri": "https://localhost:8080/"
        }
      },
      "execution_count": 132,
      "outputs": [
        {
          "output_type": "stream",
          "name": "stdout",
          "text": [
            "assistant: ```json\n",
            "[\n",
            "  {\n",
            "    \"timestamp\": \"0:00-2:00\",\n",
            "    \"timeblock\": \"Introduction\",\n",
            "    \"summary\": \"Start with a hook about the overwhelming amount of data in the world. Introduce data visualization as a solution. Briefly mention the benefits like pattern identification, storytelling, and improved decision-making.\",\n",
            "    \"script\": \"Hey everyone, have you ever felt like you're drowning in a sea of data? We're bombarded with information every day, from news articles and social media feeds to complex spreadsheets at work. It's easy to feel overwhelmed and struggle to make sense of it all. But what if there was a way to cut through the noise and unlock the hidden stories within our data? That's where data visualization comes in. By transforming raw data into engaging visuals like charts, graphs, and maps, we can reveal patterns, identify trends, and communicate insights more effectively. In this video, we'll explore the power of data visualization and how it can help us make better decisions, understand complex issues, and even tell compelling stories.\"\n",
            "  },\n",
            "  {\n",
            "    \"timestamp\": \"2:00-4:00\",\n",
            "    \"timeblock\": \"The Science Behind Data Visualization\",\n",
            "    \"summary\": \"Explain why data visualization works from a cognitive psychology perspective. Discuss pre-attentive attributes and how our brains are wired to process visual information quickly.\",\n",
            "    \"script\": \"Our brains are hardwired to process visual information much faster than text or numbers. In fact, studies have shown that we can understand the meaning of a visual scene in as little as 13 milliseconds! This incredible processing power is thanks to pre-attentive attributes, which are visual cues like color, size, and shape that our brains pick up on almost instantly. Data visualization leverages these pre-attentive attributes to make information easier to digest and understand. For example, using contrasting colors to highlight important data points or varying the size of bars in a chart to represent different values can significantly improve comprehension and engagement.\"\n",
            "  },\n",
            "  {\n",
            "    \"timestamp\": \"4:00-6:00\",\n",
            "    \"timeblock\": \"Types of Data Visualizations\",\n",
            "    \"summary\": \"Showcase a variety of data visualization types and their common uses. Examples: bar charts for comparisons, line graphs for trends, scatter plots for correlations, maps for geographical data, etc.\",\n",
            "    \"script\": \"Now that we understand the science behind data visualization, let's explore some of the most common types and their applications. Bar charts are great for comparing different categories, while line graphs are ideal for showing trends over time. Scatter plots help us visualize correlations between two variables, and maps are perfect for displaying geographical data. But data visualization goes beyond these basic charts and graphs. We can use heatmaps to show the density of data points, treemaps to represent hierarchical structures, and network diagrams to illustrate relationships between different entities. The possibilities are endless!\"\n",
            "  },\n",
            "  {\n",
            "    \"timestamp\": \"6:00-8:00\",\n",
            "    \"timeblock\": \"Data Visualization Tools and Resources\",\n",
            "    \"summary\": \"Introduce popular data visualization tools like Tableau, Power BI, and Python libraries. Mention free and paid options, catering to different skill levels.\",\n",
            "    \"script\": \"Ready to start creating your own data visualizations? There are tons of amazing tools available, ranging from beginner-friendly platforms to advanced programming libraries. Tableau and Power BI are two popular choices that offer intuitive drag-and-drop interfaces and powerful analytical capabilities. For those comfortable with coding, Python libraries like Matplotlib and Seaborn provide endless customization options. And don't worry if you're on a budget, there are plenty of free and open-source tools like Google Charts and Datawrapper that can help you get started.\"\n",
            "  },\n",
            "  {\n",
            "    \"timestamp\": \"8:00-10:00\",\n",
            "    \"timeblock\": \"Real-World Examples of Data Visualization\",\n",
            "    \"summary\": \"Present compelling examples of data visualization used in various fields like healthcare, business, and journalism. Highlight the impact and insights gained.\",\n",
            "    \"script\": \"Data visualization is transforming industries across the board. In healthcare, it's helping doctors track the spread of diseases and identify effective treatments. Businesses are using it to analyze customer behavior, optimize marketing campaigns, and improve operational efficiency. Journalists are leveraging data visualization to tell impactful stories, expose hidden trends, and hold those in power accountable. From tracking the global pandemic to understanding climate change, data visualization is playing a crucial role in tackling some of the world's most pressing challenges.\"\n",
            "  },\n",
            "  {\n",
            "    \"timestamp\": \"10:00-12:00\",\n",
            "    \"timeblock\": \"Tips for Effective Data Visualization\",\n",
            "    \"summary\": \"Share practical tips for creating impactful and engaging data visualizations. Cover aspects like choosing the right chart type, color palettes, data storytelling, and avoiding common pitfalls.\",\n",
            "    \"script\": \"Creating effective data visualizations is both an art and a science. Here are a few tips to keep in mind: First, choose the right chart type for your data and message. Second, use a clear and consistent color palette that enhances comprehension. Third, tell a story with your data by highlighting key insights and providing context. And finally, avoid common pitfalls like chart junk, misleading scales, and cherry-picking data. Remember, the goal is to communicate information clearly and effectively, not to create the most visually complex or flashy graphic.\"\n",
            "  },\n",
            "  {\n",
            "    \"timestamp\": \"12:00-12:30\",\n",
            "    \"timeblock\": \"Conclusion and Call to Action\",\n",
            "    \"summary\": \"Summarize the key takeaways and encourage viewers to explore data visualization further. Mention resources for learning and inspiration.\",\n",
            "    \"script\": \"As we've seen, data visualization is a powerful tool for understanding our world and making better decisions. By transforming raw data into engaging visuals, we can unlock hidden patterns, communicate complex ideas, and tell compelling stories. So, I encourage you to explore the world of data visualization and see what insights you can uncover. There are tons of amazing resources available online, from free courses and tutorials to inspiring examples and communities. Don't be afraid to experiment, have fun, and let your creativity shine! Thanks for watching!\"\n",
            "  }\n",
            "]\n",
            "```\n"
          ]
        }
      ]
    },
    {
      "cell_type": "code",
      "source": [],
      "metadata": {
        "id": "rqrRIEiGinz9"
      },
      "execution_count": null,
      "outputs": []
    }
  ]
}